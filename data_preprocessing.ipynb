{
 "cells": [
  {
   "cell_type": "code",
   "execution_count": 5,
   "metadata": {},
   "outputs": [],
   "source": [
    "import os\n",
    "import sqlite3\n",
    "import glob2\n",
    "import deepdish as dd\n",
    "import shutil\n",
    "import string\n",
    "from tqdm import tqdm"
   ]
  },
  {
   "cell_type": "code",
   "execution_count": 2,
   "metadata": {},
   "outputs": [
    {
     "ename": "OSError",
     "evalue": "[Errno 17] File exists: 'original_data'",
     "output_type": "error",
     "traceback": [
      "\u001b[0;31m---------------------------------------------------------------------------\u001b[0m",
      "\u001b[0;31mOSError\u001b[0m                                   Traceback (most recent call last)",
      "\u001b[0;32m<ipython-input-2-377f7d2d3d41>\u001b[0m in \u001b[0;36m<module>\u001b[0;34m()\u001b[0m\n\u001b[1;32m      2\u001b[0m \u001b[0mos\u001b[0m\u001b[0;34m.\u001b[0m\u001b[0mlistdir\u001b[0m\u001b[0;34m(\u001b[0m\u001b[0mDIR\u001b[0m\u001b[0;34m)\u001b[0m\u001b[0;34m\u001b[0m\u001b[0m\n\u001b[1;32m      3\u001b[0m \u001b[0mos\u001b[0m\u001b[0;34m.\u001b[0m\u001b[0mchdir\u001b[0m\u001b[0;34m(\u001b[0m\u001b[0mDIR\u001b[0m\u001b[0;34m)\u001b[0m\u001b[0;34m\u001b[0m\u001b[0m\n\u001b[0;32m----> 4\u001b[0;31m \u001b[0mos\u001b[0m\u001b[0;34m.\u001b[0m\u001b[0mmkdir\u001b[0m\u001b[0;34m(\u001b[0m\u001b[0;34m'original_data'\u001b[0m\u001b[0;34m)\u001b[0m\u001b[0;34m\u001b[0m\u001b[0m\n\u001b[0m",
      "\u001b[0;31mOSError\u001b[0m: [Errno 17] File exists: 'original_data'"
     ]
    }
   ],
   "source": [
    "DIR = '/home/jvidyala/data'\n",
    "os.listdir(DIR)\n",
    "os.chdir(DIR)\n",
    "os.mkdir('original_data')"
   ]
  },
  {
   "cell_type": "markdown",
   "metadata": {},
   "source": [
    "Extract all tar files and move to folder original_data"
   ]
  },
  {
   "cell_type": "code",
   "execution_count": 12,
   "metadata": {},
   "outputs": [
    {
     "data": {
      "text/plain": [
       "'/home/jvidyala/data'"
      ]
     },
     "execution_count": 12,
     "metadata": {},
     "output_type": "execute_result"
    }
   ],
   "source": [
    "def char_range(c1,c2):\n",
    "\n",
    "    for c in range(ord(c1),ord(c2)+1):\n",
    "        yield chr(c)\n",
    "\n",
    "for c in char_range('V','Z'):\n",
    "    tar = tarfile.open(c+'.tar.gz')\n",
    "    tar.extractall()\n",
    "    tar.close()\n",
    "    print('Extracted '+c+'.tar.gz')\n",
    "    \n",
    "for letter in string.ascii_uppercase:\n",
    "    shutil.move(letter,'original_data/'+letter)"
   ]
  },
  {
   "cell_type": "markdown",
   "metadata": {},
   "source": [
    "Use track_metadata.db to find track_id from song_id"
   ]
  },
  {
   "cell_type": "code",
   "execution_count": 6,
   "metadata": {},
   "outputs": [
    {
     "name": "stderr",
     "output_type": "stream",
     "text": [
      "100%|██████████| 100/100 [00:39<00:00,  2.51it/s]\n"
     ]
    }
   ],
   "source": [
    "songid_file = dd.io.load('song_ids.h5')\n",
    "song_ids = list(songid_file.keys())\n",
    "num_files = 100 #(len(song_ids))\n",
    "track_ids = []\n",
    "\n",
    "conn = sqlite3.connect('track_metadata.db')\n",
    "for i in tqdm(range(num_files)):\n",
    "    query = \"SELECT track_id FROM songs WHERE song_id = '%s'\" % (song_ids[i])\n",
    "    cursor = conn.execute(query)\n",
    "    for row in cursor:\n",
    "        track_ids.append(row)\n",
    "\n",
    "dd.io.save('track_ids.h5',track_ids)"
   ]
  },
  {
   "cell_type": "code",
   "execution_count": null,
   "metadata": {},
   "outputs": [],
   "source": [
    "\n",
    "# for track_id in track_ids[:10]:\n",
    "#     print(track_id[2]+'/'+track_id[3]+'/'+track_id[4]+'/'+track_id)\n",
    "    \n",
    "# files = glob2.glob('original_data/*/*/*/*.h5')\n",
    "# print(len(files))"
   ]
  },
  {
   "cell_type": "code",
   "execution_count": 12,
   "metadata": {},
   "outputs": [
    {
     "name": "stdout",
     "output_type": "stream",
     "text": [
      "[(u'TRKSYVE128F14A9689',), (u'TRLBUEP128F934AAF8',), (u'TRVKKAS128F9313DAC',), (u'TRPMLXP128F1452635',), (u'TRAVYJZ128E0799163',), (u'TRWJRAL128F9314061',), (u'TRDCRQJ128F424B61F',), (u'TRSXATL128E07982FC',), (u'TRTDCEC128F92CCF48',), (u'TRRHKWQ128F9318F74',)]\n",
      "[u'TRKSYVE128F14A9689', u'TRLBUEP128F934AAF8', u'TRVKKAS128F9313DAC', u'TRPMLXP128F1452635', u'TRAVYJZ128E0799163']\n"
     ]
    }
   ],
   "source": [
    "print(track_ids)\n",
    "track_shit = [track_ids[i][0] for i in range(5)]\n",
    "print(track_shit)\n"
   ]
  },
  {
   "cell_type": "code",
   "execution_count": null,
   "metadata": {},
   "outputs": [],
   "source": []
  }
 ],
 "metadata": {
  "kernelspec": {
   "display_name": "Python 2",
   "language": "python",
   "name": "python2"
  },
  "language_info": {
   "codemirror_mode": {
    "name": "ipython",
    "version": 2
   },
   "file_extension": ".py",
   "mimetype": "text/x-python",
   "name": "python",
   "nbconvert_exporter": "python",
   "pygments_lexer": "ipython2",
   "version": "2.7.12"
  }
 },
 "nbformat": 4,
 "nbformat_minor": 2
}
