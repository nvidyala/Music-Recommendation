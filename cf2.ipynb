{
 "cells": [
  {
   "cell_type": "code",
   "execution_count": 14,
   "metadata": {},
   "outputs": [],
   "source": [
    "import pandas as pd\n",
    "import numpy as np\n",
    "import matplotlib.pyplot as plt\n",
    "import warnings\n",
    "warnings.filterwarnings('ignore')\n",
    "from sklearn.model_selection import train_test_split\n",
    "%matplotlib inline\n",
    "\n",
    "import os, math\n",
    "import keras.backend as K\n",
    "from numpy import random\n",
    "from __future__ import division\n",
    "from sklearn import dummy, metrics, cross_validation, ensemble\n",
    "from keras.layers import Input, Embedding, Flatten, Dropout, Conv2D, merge, normalization, MaxPooling1D,Dense, Dot, Concatenate, Merge, Conv1D, Add,add\n",
    "from keras.utils import to_categorical\n",
    "from keras.regularizers import l2\n",
    "from keras.models import Model\n",
    "from IPython.display import SVG\n",
    "from keras.optimizers import Adam\n",
    "from keras.utils.vis_utils import model_to_dot\n",
    "from keras.callbacks import ModelCheckpoint\n",
    "from keras import regularizers\n",
    "from keras.callbacks import LearningRateScheduler, ReduceLROnPlateau\n",
    "\n",
    "import keras\n",
    "import deepdish as dd\n",
    "from read_activations import *"
   ]
  },
  {
   "cell_type": "code",
   "execution_count": 2,
   "metadata": {},
   "outputs": [],
   "source": [
    "dataset = pd.read_csv(\"/home/jvidyala/data/train_triplets.txt\",sep=\"\\t\",skiprows=1,names=\"user_id,song_id,play_count\".split(\",\"))\n"
   ]
  },
  {
   "cell_type": "code",
   "execution_count": 3,
   "metadata": {},
   "outputs": [],
   "source": [
    "n_users = len(dataset.user_id.unique())\n",
    "n_songs = len(dataset.song_id.unique())\n",
    "\n",
    "dataset.user_id = dataset.user_id.astype('category')\n",
    "dataset.song_id = dataset.song_id.astype('category')\n",
    "\n",
    "dataset.user_id = dataset.user_id.cat.codes.values\n",
    "dataset.song_id = dataset.song_id.cat.codes.values"
   ]
  },
  {
   "cell_type": "code",
   "execution_count": 8,
   "metadata": {},
   "outputs": [
    {
     "data": {
      "text/plain": [
       "1.8668588858981612"
      ]
     },
     "execution_count": 8,
     "metadata": {},
     "output_type": "execute_result"
    }
   ],
   "source": [
    "dummy_classifier = dummy.DummyClassifier(strategy='prior')\n",
    "dummy_classifier.fit(dataset[['user_id','song_id']],dataset.play_count)\n",
    "metrics.mean_absolute_error(dummy_classifier.predict(dataset[['user_id','song_id']]),dataset.play_count)"
   ]
  },
  {
   "cell_type": "code",
   "execution_count": 12,
   "metadata": {},
   "outputs": [
    {
     "data": {
      "text/html": [
       "<div>\n",
       "<style scoped>\n",
       "    .dataframe tbody tr th:only-of-type {\n",
       "        vertical-align: middle;\n",
       "    }\n",
       "\n",
       "    .dataframe tbody tr th {\n",
       "        vertical-align: top;\n",
       "    }\n",
       "\n",
       "    .dataframe thead th {\n",
       "        text-align: right;\n",
       "    }\n",
       "</style>\n",
       "<table border=\"1\" class=\"dataframe\">\n",
       "  <thead>\n",
       "    <tr style=\"text-align: right;\">\n",
       "      <th></th>\n",
       "      <th>user_id</th>\n",
       "      <th>song_id</th>\n",
       "      <th>play_count</th>\n",
       "    </tr>\n",
       "  </thead>\n",
       "  <tbody>\n",
       "    <tr>\n",
       "      <th>0</th>\n",
       "      <td>732659</td>\n",
       "      <td>9365</td>\n",
       "      <td>1</td>\n",
       "    </tr>\n",
       "    <tr>\n",
       "      <th>1</th>\n",
       "      <td>732659</td>\n",
       "      <td>16962</td>\n",
       "      <td>2</td>\n",
       "    </tr>\n",
       "    <tr>\n",
       "      <th>2</th>\n",
       "      <td>732659</td>\n",
       "      <td>19513</td>\n",
       "      <td>1</td>\n",
       "    </tr>\n",
       "    <tr>\n",
       "      <th>3</th>\n",
       "      <td>732659</td>\n",
       "      <td>19536</td>\n",
       "      <td>1</td>\n",
       "    </tr>\n",
       "    <tr>\n",
       "      <th>4</th>\n",
       "      <td>732659</td>\n",
       "      <td>24689</td>\n",
       "      <td>1</td>\n",
       "    </tr>\n",
       "  </tbody>\n",
       "</table>\n",
       "</div>"
      ],
      "text/plain": [
       "   user_id  song_id  play_count\n",
       "0   732659     9365           1\n",
       "1   732659    16962           2\n",
       "2   732659    19513           1\n",
       "3   732659    19536           1\n",
       "4   732659    24689           1"
      ]
     },
     "execution_count": 12,
     "metadata": {},
     "output_type": "execute_result"
    }
   ],
   "source": [
    "dataset.head(5)"
   ]
  },
  {
   "cell_type": "markdown",
   "metadata": {},
   "source": [
    "Initial test for memory issues on target categorical for 100,000 rows\n",
    "\n",
    "UPDATE: 100,000 throw mem error during training. Trying 10,000\n",
    "\n"
   ]
  },
  {
   "cell_type": "code",
   "execution_count": 6,
   "metadata": {},
   "outputs": [
    {
     "ename": "NameError",
     "evalue": "name 'y' is not defined",
     "output_type": "error",
     "traceback": [
      "\u001b[0;31m---------------------------------------------------------------------------\u001b[0m",
      "\u001b[0;31mNameError\u001b[0m                                 Traceback (most recent call last)",
      "\u001b[0;32m<ipython-input-6-8274b53854a2>\u001b[0m in \u001b[0;36m<module>\u001b[0;34m()\u001b[0m\n\u001b[0;32m----> 1\u001b[0;31m \u001b[0ma_songid\u001b[0m\u001b[0;34m,\u001b[0m \u001b[0mb_songid\u001b[0m\u001b[0;34m,\u001b[0m \u001b[0ma_userid\u001b[0m\u001b[0;34m,\u001b[0m \u001b[0mb_userid\u001b[0m\u001b[0;34m,\u001b[0m \u001b[0ma_y\u001b[0m\u001b[0;34m,\u001b[0m \u001b[0mb_y\u001b[0m \u001b[0;34m=\u001b[0m \u001b[0mcross_validation\u001b[0m\u001b[0;34m.\u001b[0m\u001b[0mtrain_test_split\u001b[0m\u001b[0;34m(\u001b[0m\u001b[0msongids\u001b[0m\u001b[0;34m,\u001b[0m\u001b[0muserids\u001b[0m\u001b[0;34m,\u001b[0m\u001b[0my\u001b[0m\u001b[0;34m,\u001b[0m\u001b[0mtest_size\u001b[0m\u001b[0;34m=\u001b[0m\u001b[0;36m0.2\u001b[0m\u001b[0;34m)\u001b[0m\u001b[0;34m\u001b[0m\u001b[0m\n\u001b[0m",
      "\u001b[0;31mNameError\u001b[0m: name 'y' is not defined"
     ]
    }
   ],
   "source": [
    "k = 10000\n",
    "\n",
    "size = max(dataset.play_count)\n",
    "y = np.zeros((k,size-1))\n",
    "y[np.arange(k),dataset.play_count.head(k)-1] = 1\n",
    "\n",
    "a_songid, b_songid, a_userid, b_userid, a_y, b_y = cross_validation.train_test_split(songids,userids,y,test_size=0.2)"
   ]
  },
  {
   "cell_type": "markdown",
   "metadata": {},
   "source": [
    "Testing with integer targets instead of categorical one-hot encoded vector\n"
   ]
  },
  {
   "cell_type": "code",
   "execution_count": 4,
   "metadata": {},
   "outputs": [],
   "source": [
    "k=100000\n",
    "y = dataset.play_count.head(k)\n",
    "songids = dataset.song_id.head(k).values\n",
    "userids = dataset.user_id.head(k).values\n",
    "\n",
    "a_songid, b_songid, a_userid, b_userid, a_y, b_y = cross_validation.train_test_split(songids,userids,y,test_size=0.1)"
   ]
  },
  {
   "cell_type": "markdown",
   "metadata": {},
   "source": [
    "Hold two out validation testing"
   ]
  },
  {
   "cell_type": "code",
   "execution_count": 4,
   "metadata": {},
   "outputs": [],
   "source": [
    "k = 50000\n",
    "a_songid, b_songid, a_userid, b_userid, a_y, b_y = [np.zeros(1) for i in range(6)]\n",
    "\n",
    "\n",
    "for user in dataset.user_id.head(k).unique():\n",
    "    a_songid = np.append(a_songid,dataset.loc[dataset['user_id'] == user].iloc[:-2].song_id)\n",
    "    a_userid = np.append(a_userid,dataset.loc[dataset['user_id'] == user].iloc[:-2].user_id)\n",
    "    a_y = np.append(a_y,dataset.loc[dataset['user_id'] == user].iloc[:-2].play_count)\n",
    "\n",
    "    b_songid = np.append(b_songid,dataset.loc[dataset['user_id'] == user].tail(2).song_id)\n",
    "    b_userid = np.append(b_userid,dataset.loc[dataset['user_id'] == user].tail(2).user_id)\n",
    "    b_y = np.append(b_y,dataset.loc[dataset['user_id'] == user].tail(2).play_count)\n",
    "    \n",
    "\n",
    "a_songid = a_songid[1:]\n",
    "b_songid = b_songid[1:]\n",
    "a_userid = a_userid[1:]\n",
    "b_userid = b_userid[1:]\n",
    "a_y = a_y[1:]\n",
    "b_y = b_y[1:]"
   ]
  },
  {
   "cell_type": "code",
   "execution_count": 16,
   "metadata": {},
   "outputs": [],
   "source": [
    "dd.io.save('/home/jvidyala/model_sample_data/a_songid.h5',a_songid)\n",
    "dd.io.save('/home/jvidyala/model_sample_data/b_songid.h5',b_songid)\n",
    "dd.io.save('/home/jvidyala/model_sample_data/a_userid.h5',a_userid)\n",
    "dd.io.save('/home/jvidyala/model_sample_data/b_userid.h5',b_userid)\n",
    "dd.io.save('/home/jvidyala/model_sample_data/a_y.h5',a_y)\n",
    "dd.io.save('/home/jvidyala/model_sample_data/b_y.h5',b_y)"
   ]
  },
  {
   "cell_type": "code",
   "execution_count": 17,
   "metadata": {},
   "outputs": [],
   "source": [
    "a_songid = dd.io.load('/home/jvidyala/model_sample_data/a_songid.h5')\n",
    "b_songid = dd.io.load('/home/jvidyala/model_sample_data/b_songid.h5')\n",
    "a_userid = dd.io.load('/home/jvidyala/model_sample_data/a_userid.h5')\n",
    "b_userid = dd.io.load('/home/jvidyala/model_sample_data/b_userid.h5')\n",
    "a_y = dd.io.load('/home/jvidyala/model_sample_data/a_y.h5')\n",
    "b_y = dd.io.load('/home/jvidyala/model_sample_data/b_y.h5')\n"
   ]
  },
  {
   "cell_type": "markdown",
   "metadata": {},
   "source": [
    "MODEL 1"
   ]
  },
  {
   "cell_type": "code",
   "execution_count": 57,
   "metadata": {},
   "outputs": [],
   "source": [
    "song_input = Input(shape=[1])\n",
    "song_embedding = Flatten()(Embedding(n_songs+1, 16)(song_input))\n",
    "song_vec = Dropout(0.5)(song_embedding)\n",
    "\n",
    "user_input = Input(shape=[1])\n",
    "user_embedding = Flatten()(Embedding(n_users+1, 16)(user_input))\n",
    "user_vec = Dropout(0.5)(user_embedding)\n",
    "    \n",
    "input_vecs = Concatenate()([song_vec,user_vec])    \n",
    "x = Dense(128, activation='relu')(input_vecs)\n",
    "\n",
    "y = Dense(1)(x)\n",
    "model = Model(inputs=[song_input,user_input],outputs=y)\n",
    "model.compile(loss='mse',optimizer='adam')"
   ]
  },
  {
   "cell_type": "markdown",
   "metadata": {},
   "source": [
    "Testing model with no regularization, single Dense layer"
   ]
  },
  {
   "cell_type": "code",
   "execution_count": 58,
   "metadata": {},
   "outputs": [
    {
     "name": "stdout",
     "output_type": "stream",
     "text": [
      "Train on 47992 samples, validate on 2020 samples\n",
      "Epoch 1/20\n",
      "47992/47992 [==============================] - 21s 445us/step - loss: 103.8698 - val_loss: 41.8556\n",
      "Epoch 2/20\n",
      "47992/47992 [==============================] - 21s 439us/step - loss: 99.7874 - val_loss: 39.0839\n",
      "Epoch 3/20\n",
      "47992/47992 [==============================] - 21s 440us/step - loss: 96.9017 - val_loss: 38.8584\n",
      "Epoch 4/20\n",
      "47992/47992 [==============================] - 21s 440us/step - loss: 93.3913 - val_loss: 39.3966\n",
      "Epoch 5/20\n",
      "47992/47992 [==============================] - 21s 440us/step - loss: 90.4468 - val_loss: 40.1802\n",
      "Epoch 6/20\n",
      "47992/47992 [==============================] - 21s 439us/step - loss: 86.9144 - val_loss: 41.0237\n",
      "Epoch 7/20\n",
      "47992/47992 [==============================] - 21s 439us/step - loss: 86.7856 - val_loss: 40.7780\n",
      "Epoch 8/20\n",
      "47992/47992 [==============================] - 21s 439us/step - loss: 84.3390 - val_loss: 42.8583\n",
      "Epoch 9/20\n",
      "47992/47992 [==============================] - 21s 439us/step - loss: 80.6054 - val_loss: 42.7930\n",
      "Epoch 10/20\n",
      "47992/47992 [==============================] - 21s 440us/step - loss: 80.9351 - val_loss: 42.7034\n",
      "Epoch 11/20\n",
      "47992/47992 [==============================] - 21s 440us/step - loss: 77.3358 - val_loss: 42.6672\n",
      "Epoch 12/20\n",
      "47992/47992 [==============================] - 21s 439us/step - loss: 79.5300 - val_loss: 44.5211\n",
      "Epoch 13/20\n",
      "47992/47992 [==============================] - 21s 439us/step - loss: 76.0410 - val_loss: 47.6569\n",
      "Epoch 14/20\n",
      "47992/47992 [==============================] - 21s 440us/step - loss: 75.1826 - val_loss: 45.9284\n",
      "Epoch 15/20\n",
      "47992/47992 [==============================] - 21s 439us/step - loss: 75.1653 - val_loss: 46.3822\n",
      "Epoch 16/20\n",
      "47992/47992 [==============================] - 21s 437us/step - loss: 71.8536 - val_loss: 48.1127\n",
      "Epoch 17/20\n",
      "47992/47992 [==============================] - 21s 435us/step - loss: 71.7879 - val_loss: 50.8369\n",
      "Epoch 18/20\n",
      "47992/47992 [==============================] - 21s 437us/step - loss: 73.3507 - val_loss: 49.4575\n",
      "Epoch 19/20\n",
      "47992/47992 [==============================] - 21s 435us/step - loss: 64.0431 - val_loss: 50.0891\n",
      "Epoch 20/20\n",
      "47992/47992 [==============================] - 21s 434us/step - loss: 68.5602 - val_loss: 55.4850\n"
     ]
    }
   ],
   "source": [
    "history = model.fit([a_songid,a_userid], a_y,\n",
    "                   epochs = 20,\n",
    "                   validation_data=([b_songid, b_userid], b_y),\n",
    "                   batch_size=64, shuffle=True)"
   ]
  },
  {
   "cell_type": "code",
   "execution_count": 98,
   "metadata": {},
   "outputs": [
    {
     "data": {
      "text/plain": [
       "<matplotlib.legend.Legend at 0x7fa416c5f150>"
      ]
     },
     "execution_count": 98,
     "metadata": {},
     "output_type": "execute_result"
    },
    {
     "data": {
      "image/png": "[encoded data removed]",
      "text/plain": [
       "<matplotlib.figure.Figure at 0x7fa416ce8bd0>"
      ]
     },
     "metadata": {},
     "output_type": "display_data"
    }
   ],
   "source": [
    "plt.plot(history.history['loss'],'--', label='Training Loss')\n",
    "plt.plot(history.history['val_loss'],'--',label='Validation Loss')\n",
    "plt.axis([0,20,0,30])\n",
    "plt.legend()"
   ]
  },
  {
   "cell_type": "markdown",
   "metadata": {},
   "source": [
    "MODEL 2"
   ]
  },
  {
   "cell_type": "code",
   "execution_count": 10,
   "metadata": {},
   "outputs": [],
   "source": [
    "song_input = Input(shape=[1])\n",
    "song_embedding = Flatten()(Embedding(n_songs+1, 32)(song_input))\n",
    "song_vec = (song_embedding)\n",
    "\n",
    "user_input = Input(shape=[1])\n",
    "user_embedding = Flatten()(Embedding(n_users+1, 32)(user_input))\n",
    "user_vec = (user_embedding)\n",
    "    \n",
    "input_vecs = Concatenate()([song_vec,user_vec])    \n",
    "x = Dense(128, activation='relu')(input_vecs)\n",
    "x = Dropout(0.7)(x)\n",
    "x = Dense(128, activation='relu')(input_vecs)\n",
    "\n",
    "\n",
    "y = Dense(1)(x)\n",
    "model = Model(inputs=[song_input,user_input],outputs=y)\n",
    "model.compile(loss='mse',optimizer='adam')"
   ]
  },
  {
   "cell_type": "code",
   "execution_count": 11,
   "metadata": {
    "scrolled": true
   },
   "outputs": [
    {
     "name": "stdout",
     "output_type": "stream",
     "text": [
      "Train on 9000 samples, validate on 1000 samples\n",
      "Epoch 1/20\n",
      "9000/9000 [==============================] - 26s 3ms/step - loss: 21.7074 - val_loss: 14.8529\n",
      "Epoch 2/20\n",
      "9000/9000 [==============================] - 7s 818us/step - loss: 17.9552 - val_loss: 14.4946\n",
      "Epoch 3/20\n",
      "9000/9000 [==============================] - 7s 819us/step - loss: 15.2416 - val_loss: 15.5579\n",
      "Epoch 4/20\n",
      "9000/9000 [==============================] - 7s 819us/step - loss: 12.2822 - val_loss: 15.9452\n",
      "Epoch 5/20\n",
      "9000/9000 [==============================] - 7s 818us/step - loss: 9.8823 - val_loss: 17.0222\n",
      "Epoch 6/20\n",
      "9000/9000 [==============================] - 7s 818us/step - loss: 8.1399 - val_loss: 18.5339\n",
      "Epoch 7/20\n",
      "9000/9000 [==============================] - 7s 819us/step - loss: 6.9403 - val_loss: 20.4302\n",
      "Epoch 8/20\n",
      "9000/9000 [==============================] - 7s 821us/step - loss: 6.1452 - val_loss: 22.2555\n",
      "Epoch 9/20\n",
      "9000/9000 [==============================] - 7s 828us/step - loss: 5.3489 - val_loss: 24.0473\n",
      "Epoch 10/20\n",
      "9000/9000 [==============================] - 7s 823us/step - loss: 4.7034 - val_loss: 26.2244\n",
      "Epoch 11/20\n",
      "9000/9000 [==============================] - 7s 820us/step - loss: 4.1671 - val_loss: 28.4814\n",
      "Epoch 12/20\n",
      "9000/9000 [==============================] - 7s 820us/step - loss: 3.6571 - val_loss: 28.6505\n",
      "Epoch 13/20\n",
      "9000/9000 [==============================] - 7s 819us/step - loss: 3.2862 - val_loss: 32.8483\n",
      "Epoch 14/20\n",
      "9000/9000 [==============================] - 7s 821us/step - loss: 3.0030 - val_loss: 35.5866\n",
      "Epoch 15/20\n",
      "9000/9000 [==============================] - 7s 820us/step - loss: 2.7443 - val_loss: 35.7359\n",
      "Epoch 16/20\n",
      "9000/9000 [==============================] - 7s 819us/step - loss: 2.4599 - val_loss: 39.9170\n",
      "Epoch 17/20\n",
      "9000/9000 [==============================] - 7s 818us/step - loss: 2.2830 - val_loss: 41.2637\n",
      "Epoch 18/20\n",
      "9000/9000 [==============================] - 7s 819us/step - loss: 2.1404 - val_loss: 41.8543\n",
      "Epoch 19/20\n",
      "9000/9000 [==============================] - 7s 819us/step - loss: 2.0709 - val_loss: 41.0740\n",
      "Epoch 20/20\n",
      "9000/9000 [==============================] - 7s 819us/step - loss: 1.9182 - val_loss: 45.3243\n"
     ]
    }
   ],
   "source": [
    "history = model.fit([a_songid,a_userid], a_y,\n",
    "                   epochs = 20,\n",
    "                   validation_data=([b_songid, b_userid], b_y),\n",
    "                   batch_size=64, shuffle=True)"
   ]
  },
  {
   "cell_type": "code",
   "execution_count": 12,
   "metadata": {},
   "outputs": [
    {
     "data": {
      "text/plain": [
       "<matplotlib.legend.Legend at 0x7feee75f5cd0>"
      ]
     },
     "execution_count": 12,
     "metadata": {},
     "output_type": "execute_result"
    },
    {
     "data": {
      "image/png": "[encoded data removed]",
      "text/plain": [
       "<matplotlib.figure.Figure at 0x7feedf483b90>"
      ]
     },
     "metadata": {},
     "output_type": "display_data"
    }
   ],
   "source": [
    "plt.plot(history.history['loss'],'--', label='Training Loss')\n",
    "plt.plot(history.history['val_loss'],'--',label='Validation Loss')\n",
    "plt.axis([0,20,0,50])a\n",
    "plt.legend()"
   ]
  },
  {
   "cell_type": "markdown",
   "metadata": {},
   "source": [
    "MODEL 3\n",
    "\n",
    "Introduced dropout to embedding layers. Introduced learning rate scheduler"
   ]
  },
  {
   "cell_type": "code",
   "execution_count": 59,
   "metadata": {},
   "outputs": [],
   "source": [
    "song_input = Input(shape=[1])\n",
    "song_embedding = Flatten()(Embedding(n_songs+1, 16)(song_input))\n",
    "song_vec = Dropout(0.4)(song_embedding)\n",
    "\n",
    "user_input = Input(shape=[1])\n",
    "user_embedding = Flatten()(Embedding(n_users+1, 16)(user_input))\n",
    "user_vec = Dropout(0.4)(user_embedding)\n",
    "    \n",
    "input_vecs = Concatenate()([song_vec,user_vec])    \n",
    "x = Dense(128, activation='relu')(input_vecs)\n",
    "x = Dropout(0.7)(x)\n",
    "x = Dense(128, activation='relu')(input_vecs)\n",
    "x = Dropout(0.7)(x)\n",
    "x = Dense(128, activation='relu')(input_vecs)\n",
    "\n",
    "epochs = 20\n",
    "learning_rate = 0.001\n",
    "decay_rate = learning_rate * math.pow(0.5, math.floor(epochs/5))\n",
    "\n",
    "y = Dense(1)(x)\n",
    "model = Model(inputs=[song_input,user_input],outputs=y)\n",
    "adam = Adam(decay=decay_rate,)\n",
    "model.compile(loss='mse',optimizer='adam')"
   ]
  },
  {
   "cell_type": "code",
   "execution_count": null,
   "metadata": {
    "scrolled": true
   },
   "outputs": [
    {
     "name": "stdout",
     "output_type": "stream",
     "text": [
      "Train on 47992 samples, validate on 2020 samples\n",
      "Epoch 1/20\n",
      "47992/47992 [==============================] - 21s 443us/step - loss: 103.4919 - val_loss: 41.2713\n",
      "Epoch 2/20\n",
      "47992/47992 [==============================] - 21s 437us/step - loss: 99.4211 - val_loss: 39.0050\n",
      "Epoch 3/20\n",
      "47992/47992 [==============================] - 21s 438us/step - loss: 95.5152 - val_loss: 38.4113\n",
      "Epoch 4/20\n",
      "47992/47992 [==============================] - 21s 436us/step - loss: 91.4723 - val_loss: 39.5683\n",
      "Epoch 5/20\n",
      "47992/47992 [==============================] - 21s 434us/step - loss: 88.7254 - val_loss: 40.8483\n",
      "Epoch 6/20\n",
      "47992/47992 [==============================] - 21s 437us/step - loss: 85.6078 - val_loss: 44.3696\n",
      "Epoch 7/20\n",
      "47992/47992 [==============================] - 21s 435us/step - loss: 83.2688 - val_loss: 43.0007\n",
      "Epoch 8/20\n",
      "47992/47992 [==============================] - 21s 435us/step - loss: 80.9161 - val_loss: 44.7246\n",
      "Epoch 9/20\n",
      "47992/47992 [==============================] - 21s 436us/step - loss: 80.9693 - val_loss: 43.5569\n",
      "Epoch 10/20\n",
      "47992/47992 [==============================] - 21s 437us/step - loss: 79.6576 - val_loss: 48.4896\n",
      "Epoch 11/20\n",
      "47992/47992 [==============================] - 21s 437us/step - loss: 75.5638 - val_loss: 47.0323\n",
      "Epoch 12/20\n",
      "47992/47992 [==============================] - 21s 437us/step - loss: 74.6494 - val_loss: 50.3339\n",
      "Epoch 13/20\n",
      "47992/47992 [==============================] - 21s 437us/step - loss: 71.9602 - val_loss: 49.7220\n",
      "Epoch 14/20\n",
      "47992/47992 [==============================] - 21s 438us/step - loss: 70.5476 - val_loss: 52.0926\n",
      "Epoch 15/20\n",
      "47992/47992 [==============================] - 21s 437us/step - loss: 71.4117 - val_loss: 52.8623\n",
      "Epoch 16/20\n",
      "47992/47992 [==============================] - 21s 437us/step - loss: 70.2315 - val_loss: 54.0615\n",
      "Epoch 17/20\n",
      "47992/47992 [==============================] - 21s 437us/step - loss: 66.9316 - val_loss: 52.5298\n",
      "Epoch 18/20\n",
      "41152/47992 [========================>.....] - ETA: 2s - loss: 72.7509"
     ]
    }
   ],
   "source": [
    "history = model.fit([a_songid,a_userid], a_y,\n",
    "                   epochs = 20,\n",
    "                   validation_data=([b_songid, b_userid], b_y),\n",
    "                   batch_size=64, shuffle=True)"
   ]
  },
  {
   "cell_type": "code",
   "execution_count": 28,
   "metadata": {
    "collapsed": true
   },
   "outputs": [
    {
     "data": {
      "text/plain": [
       "<matplotlib.legend.Legend at 0x7feef4011d10>"
      ]
     },
     "execution_count": 28,
     "metadata": {},
     "output_type": "execute_result"
    },
    {
     "data": {
      "image/png": "[encoded data removed]",
      "text/plain": [
       "<matplotlib.figure.Figure at 0x7feef40e4810>"
      ]
     },
     "metadata": {},
     "output_type": "display_data"
    }
   ],
   "source": [
    "plt.plot(history.history['loss'],'--', label='Training Loss')\n",
    "plt.plot(history.history['val_loss'],'--',label='Validation Loss')\n",
    "plt.axis([0,20,0,22])\n",
    "plt.legend()"
   ]
  },
  {
   "cell_type": "markdown",
   "metadata": {},
   "source": [
    "MODEL 4\n",
    "\n",
    "Tried higher initial learning rate, exponential decay rate=0.5\n",
    "\n",
    "Higher dropout for embeddings (0.6), decay_rate = 0.7\n",
    "Lower latent factors per embedding\n",
    "Added biases\n",
    "\n"
   ]
  },
  {
   "cell_type": "code",
   "execution_count": 49,
   "metadata": {},
   "outputs": [],
   "source": [
    "epochs = 20\n",
    "learning_rate = 0.05\n",
    "decay_rate = learning_rate * math.pow(0.7, math.floor(epochs/5))\n",
    "\n",
    "song_input = Input(shape=[1])\n",
    "song_embedding = Flatten()(Embedding(n_songs+1, 10)(song_input))\n",
    "song_vec = Dropout(0.2)(song_embedding)\n",
    "\n",
    "\n",
    "user_input = Input(shape=[1])\n",
    "user_embedding = Flatten()(Embedding(n_users+1, 10)(user_input))\n",
    "user_vec = Dropout(0.2)(user_embedding)\n",
    "\n",
    "song_bias = Embedding(input_dim=n_songs,output_dim=1,input_length=1)(song_input)\n",
    "user_bias = Embedding(input_dim=n_users,output_dim=1,input_length=1)(user_input)\n",
    "\n",
    "input_vecs = Concatenate()([song_vec,user_vec]) \n",
    "x = add([input_vecs,song_bias,user_bias])\n",
    "x = Dense(128, activation='relu')(x)\n",
    "x = Dropout(0.6)(x)\n",
    "x = normalization.BatchNormalization()(x)\n",
    "x = Dense(128, activation='relu')(input_vecs)\n",
    "x = Dropout(0.6)(x)\n",
    "x = normalization.BatchNormalization()(x)\n",
    "x = Dense(128, activation='relu')(input_vecs)\n",
    "\n",
    "y = Dense(1)(x)\n",
    "model = Model(inputs=[song_input,user_input],outputs=y)\n",
    "adam = Adam(decay=decay_rate,)\n",
    "model.compile(loss='mse',optimizer='adam')"
   ]
  },
  {
   "cell_type": "code",
   "execution_count": 45,
   "metadata": {
    "collapsed": true
   },
   "outputs": [
    {
     "name": "stdout",
     "output_type": "stream",
     "text": [
      "Train on 9000 samples, validate on 1000 samples\n",
      "Epoch 1/20\n",
      "9000/9000 [==============================] - 4s 423us/step - loss: 22.3353 - val_loss: 15.0742\n",
      "Epoch 2/20\n",
      "9000/9000 [==============================] - 3s 305us/step - loss: 18.9231 - val_loss: 14.3062\n",
      "Epoch 3/20\n",
      "9000/9000 [==============================] - 3s 299us/step - loss: 17.2396 - val_loss: 14.3708\n",
      "Epoch 4/20\n",
      "9000/9000 [==============================] - 3s 305us/step - loss: 14.9546 - val_loss: 14.8930\n",
      "Epoch 5/20\n",
      "9000/9000 [==============================] - 3s 302us/step - loss: 12.6607 - val_loss: 15.6758\n",
      "Epoch 6/20\n",
      "9000/9000 [==============================] - 3s 303us/step - loss: 10.9195 - val_loss: 16.9945\n",
      "Epoch 7/20\n",
      "9000/9000 [==============================] - 3s 302us/step - loss: 9.4412 - val_loss: 17.0216\n",
      "Epoch 8/20\n",
      "9000/9000 [==============================] - 3s 301us/step - loss: 8.3305 - val_loss: 18.0874\n",
      "Epoch 9/20\n",
      "9000/9000 [==============================] - 3s 302us/step - loss: 7.6689 - val_loss: 18.1125\n",
      "Epoch 10/20\n",
      "9000/9000 [==============================] - 3s 304us/step - loss: 7.2072 - val_loss: 18.6410\n",
      "Epoch 11/20\n",
      "9000/9000 [==============================] - 3s 302us/step - loss: 6.3698 - val_loss: 20.2223\n",
      "Epoch 12/20\n",
      "9000/9000 [==============================] - 3s 301us/step - loss: 6.4658 - val_loss: 19.6247\n",
      "Epoch 13/20\n",
      "9000/9000 [==============================] - 3s 304us/step - loss: 5.8602 - val_loss: 20.5707\n",
      "Epoch 14/20\n",
      "9000/9000 [==============================] - 3s 302us/step - loss: 4.9247 - val_loss: 20.2052\n",
      "Epoch 15/20\n",
      "9000/9000 [==============================] - 3s 303us/step - loss: 4.8248 - val_loss: 21.5150\n",
      "Epoch 16/20\n",
      "9000/9000 [==============================] - 3s 306us/step - loss: 4.6196 - val_loss: 21.7239\n",
      "Epoch 17/20\n",
      "9000/9000 [==============================] - 3s 303us/step - loss: 4.6789 - val_loss: 21.4508\n",
      "Epoch 18/20\n",
      "9000/9000 [==============================] - 3s 303us/step - loss: 4.8418 - val_loss: 22.2904\n",
      "Epoch 19/20\n",
      "9000/9000 [==============================] - 3s 304us/step - loss: 3.7434 - val_loss: 21.7394\n",
      "Epoch 20/20\n",
      "9000/9000 [==============================] - 3s 303us/step - loss: 4.0492 - val_loss: 23.5959\n"
     ]
    }
   ],
   "source": [
    "history = model.fit([a_songid,a_userid], a_y,\n",
    "                   epochs = 20,\n",
    "                   validation_data=([b_songid, b_userid], b_y),\n",
    "                   batch_size=64, shuffle=True)"
   ]
  },
  {
   "cell_type": "code",
   "execution_count": 46,
   "metadata": {},
   "outputs": [
    {
     "data": {
      "text/plain": [
       "<matplotlib.legend.Legend at 0x7f11d0d02090>"
      ]
     },
     "execution_count": 46,
     "metadata": {},
     "output_type": "execute_result"
    },
    {
     "data": {
      "image/png": "[encoded data removed]",
      "text/plain": [
       "<matplotlib.figure.Figure at 0x7f11d0d10090>"
      ]
     },
     "metadata": {},
     "output_type": "display_data"
    }
   ],
   "source": [
    "plt.plot(history.history['loss'],'--', label='Training Loss')\n",
    "plt.plot(history.history['val_loss'],'--',label='Validation Loss')\n",
    "plt.axis([0,20,0,25])\n",
    "plt.legend()"
   ]
  },
  {
   "cell_type": "markdown",
   "metadata": {},
   "source": [
    "Added regularization\n",
    "**Implement grid search for hyperparameter optimization"
   ]
  },
  {
   "cell_type": "code",
   "execution_count": 73,
   "metadata": {},
   "outputs": [],
   "source": [
    "epochs = 20\n",
    "learning_rate = 0.05\n",
    "decay_rate = learning_rate * math.pow(0.7, math.floor(epochs/5))\n",
    "\n",
    "song_input = Input(shape=[1])\n",
    "song_embedding = Flatten()(Embedding(input_dim=n_songs+1, output_dim=16, embeddings_regularizer=regularizers.l2(0.1))(song_input))\n",
    "song_vec = Dropout(0.2)(song_embedding)\n",
    "\n",
    "\n",
    "user_input = Input(shape=[1])\n",
    "user_embedding = Flatten()(Embedding(input_dim=n_users+1, output_dim=16, embeddings_regularizer=regularizers.l2(0.1))(user_input))\n",
    "user_vec = Dropout(0.2)(user_embedding)\n",
    "\n",
    "song_bias = Embedding(input_dim=n_songs,output_dim=1,input_length=1)(song_input)\n",
    "user_bias = Embedding(input_dim=n_users,output_dim=1,input_length=1)(user_input)\n",
    "\n",
    "input_vecs = Concatenate()([song_vec,user_vec]) \n",
    "x = add([input_vecs,song_bias,user_bias])\n",
    "x = Dropout(0.4)(x)\n",
    "x = Dense(128, activation='relu')(x)\n",
    "x = Dropout(0.6)(x)\n",
    "x = normalization.BatchNormalization()(x)\n",
    "x = Dense(128, activation='relu')(input_vecs)\n",
    "x = Dropout(0.6)(x)\n",
    "x = normalization.BatchNormalization()(x)\n",
    "x = Dense(128, activation='relu')(input_vecs)\n",
    "\n",
    "y = Dense(1)(x)\n",
    "model = Model(inputs=[song_input,user_input],outputs=y)\n",
    "adam = Adam(decay=decay_rate,)\n",
    "model.compile(loss='mse',optimizer='adam')"
   ]
  },
  {
   "cell_type": "code",
   "execution_count": 74,
   "metadata": {
    "scrolled": true
   },
   "outputs": [
    {
     "name": "stdout",
     "output_type": "stream",
     "text": [
      "Train on 9063 samples, validate on 1007 samples\n",
      "Epoch 1/20\n",
      "9063/9063 [==============================] - 16s 2ms/step - loss: 406.6935 - val_loss: 11.1203\n",
      "Epoch 2/20\n",
      "9063/9063 [==============================] - 11s 1ms/step - loss: 19.2212 - val_loss: 10.9953\n",
      "Epoch 3/20\n",
      "9063/9063 [==============================] - 11s 1ms/step - loss: 18.6190 - val_loss: 11.2519\n",
      "Epoch 4/20\n",
      "9063/9063 [==============================] - 11s 1ms/step - loss: 17.5209 - val_loss: 12.7899\n",
      "Epoch 5/20\n",
      "9063/9063 [==============================] - 11s 1ms/step - loss: 15.1351 - val_loss: 14.2225\n",
      "Epoch 6/20\n",
      "9063/9063 [==============================] - 11s 1ms/step - loss: 13.2701 - val_loss: 14.8038\n",
      "Epoch 7/20\n",
      "9063/9063 [==============================] - 11s 1ms/step - loss: 11.9284 - val_loss: 14.0583\n",
      "Epoch 8/20\n",
      "9063/9063 [==============================] - 11s 1ms/step - loss: 10.7055 - val_loss: 14.2019\n",
      "Epoch 9/20\n",
      "9063/9063 [==============================] - 11s 1ms/step - loss: 9.9632 - val_loss: 13.6459\n",
      "Epoch 10/20\n",
      "9063/9063 [==============================] - 11s 1ms/step - loss: 9.3284 - val_loss: 14.8445\n",
      "Epoch 11/20\n",
      "9063/9063 [==============================] - 11s 1ms/step - loss: 9.1944 - val_loss: 14.1172\n",
      "Epoch 12/20\n",
      "9063/9063 [==============================] - 11s 1ms/step - loss: 8.4853 - val_loss: 14.4346\n",
      "Epoch 13/20\n",
      "9063/9063 [==============================] - 11s 1ms/step - loss: 7.9532 - val_loss: 14.5751\n",
      "Epoch 14/20\n",
      "9063/9063 [==============================] - 11s 1ms/step - loss: 7.9841 - val_loss: 13.8108\n",
      "Epoch 15/20\n",
      "9063/9063 [==============================] - 11s 1ms/step - loss: 7.8069 - val_loss: 15.0084\n",
      "Epoch 16/20\n",
      "9063/9063 [==============================] - 11s 1ms/step - loss: 7.3919 - val_loss: 14.1510\n",
      "Epoch 17/20\n",
      "9063/9063 [==============================] - 11s 1ms/step - loss: 7.4199 - val_loss: 15.6589\n",
      "Epoch 18/20\n",
      "9063/9063 [==============================] - 11s 1ms/step - loss: 6.9763 - val_loss: 14.9795\n",
      "Epoch 19/20\n",
      "9063/9063 [==============================] - 11s 1ms/step - loss: 6.9025 - val_loss: 15.3386\n",
      "Epoch 20/20\n",
      "9063/9063 [==============================] - 11s 1ms/step - loss: 6.8496 - val_loss: 15.7428\n"
     ]
    }
   ],
   "source": [
    "history = model.fit([a_songid,a_userid], a_y,\n",
    "                   epochs = 20,\n",
    "                   validation_data=([b_songid, b_userid], b_y),\n",
    "                   batch_size=64, shuffle=True)"
   ]
  },
  {
   "cell_type": "markdown",
   "metadata": {},
   "source": [
    "NMF model with normalized train data\n",
    "\n",
    "- Fails to converge. Need to pretrain?"
   ]
  },
  {
   "cell_type": "code",
   "execution_count": 11,
   "metadata": {},
   "outputs": [],
   "source": [
    "maximum, minimum = max(y), min(y)\n",
    "norm_y = (y - minimum)/(maximum - minimum)\n",
    "nmf_a_songid, nmf_b_songid, nmf_a_userid, nmf_b_userid, nmf_a_y, nmf_b_y = cross_validation.train_test_split(songids,userids,norm_y,test_size=0.1)"
   ]
  },
  {
   "cell_type": "code",
   "execution_count": 12,
   "metadata": {},
   "outputs": [],
   "source": [
    "song_input = Input(shape=(1,), name='song_input')\n",
    "user_input = Input(shape=(1,), name='user_input')\n",
    "\n",
    "MF_Embedding_Song = Embedding(input_dim = n_songs, output_dim = 16, name = 'mf_embedding_song', W_regularizer = l2(),\n",
    "                             input_length = 1)\n",
    "MF_Embedding_User = Embedding(input_dim = n_songs, output_dim = 16, name = 'mf_embedding_user', W_regularizer = l2(),\n",
    "                             input_length = 1)\n",
    "\n",
    "MLP_Embedding_Song = Embedding(input_dim = n_songs, output_dim = 16, name = 'mlp_embedding_song', W_regularizer = l2(),\n",
    "                             input_length = 1)\n",
    "MLP_Embedding_User = Embedding(input_dim = n_songs, output_dim = 16, name = 'mlp_embedding_user', W_regularizer = l2(),\n",
    "                             input_length = 1)\n",
    "\n",
    "mf_song_latent = Flatten()(MF_Embedding_Song(song_input))\n",
    "mf_user_latent = Flatten()(MF_Embedding_User(user_input))\n",
    "mf_vector = merge([mf_song_latent,mf_user_latent],mode='mul')\n",
    "\n",
    "mlp_song_latent = Flatten()(MLP_Embedding_Song(song_input))\n",
    "mlp_user_latent = Flatten()(MLP_Embedding_User(user_input))\n",
    "mlp_vector = merge([mlp_song_latent,mlp_user_latent],mode='concat')\n",
    "\n",
    "mlp_vector = Dense(20, W_regularizer=l2(0.01),activation='relu')(mlp_vector)\n",
    "mlp_vector = Dense(10, W_regularizer=l2(0.01),activation='relu')(mlp_vector)\n",
    "\n",
    "predict_vector = merge([mlp_vector,mf_vector],mode='concat')\n",
    "prediction = Dense(1,activation='sigmoid', init='lecun_uniform')(predict_vector)\n",
    "\n",
    "model_nmf = Model(input=[song_input,user_input],output=prediction)\n",
    "model_nmf.compile(loss='mse',optimizer=Adam(lr=0.05,clipnorm=1,clipvalue=0.5))"
   ]
  },
  {
   "cell_type": "code",
   "execution_count": 13,
   "metadata": {
    "scrolled": true
   },
   "outputs": [
    {
     "name": "stdout",
     "output_type": "stream",
     "text": [
      "Train on 9063 samples, validate on 1007 samples\n",
      "Epoch 1/100\n",
      "9063/9063 [==============================] - 49s 5ms/step - loss: 1419.9505 - val_loss: 933.0241\n",
      "Epoch 2/100\n",
      "9063/9063 [==============================] - 47s 5ms/step - loss: 633.9653 - val_loss: 402.1023\n",
      "Epoch 3/100\n",
      "9063/9063 [==============================] - 48s 5ms/step - loss: 367.4677 - val_loss: 349.4754\n",
      "Epoch 4/100\n",
      "9063/9063 [==============================] - 48s 5ms/step - loss: 909.0924 - val_loss: 2348.6524\n",
      "Epoch 5/100\n",
      "9063/9063 [==============================] - 48s 5ms/step - loss: 1915.5238 - val_loss: 1578.5487\n",
      "Epoch 6/100\n",
      "9063/9063 [==============================] - 48s 5ms/step - loss: 1392.2357 - val_loss: 1196.6459\n",
      "Epoch 7/100\n",
      "9063/9063 [==============================] - 47s 5ms/step - loss: 976.2395 - val_loss: 817.0829\n",
      "Epoch 8/100\n",
      "9063/9063 [==============================] - 47s 5ms/step - loss: nan - val_loss: nan\n",
      "Epoch 9/100\n",
      "5030/9063 [===============>..............] - ETA: 20s - loss: nan"
     ]
    },
    {
     "ename": "KeyboardInterrupt",
     "evalue": "",
     "output_type": "error",
     "traceback": [
      "\u001b[0;31m---------------------------------------------------------------------------\u001b[0m",
      "\u001b[0;31mKeyboardInterrupt\u001b[0m                         Traceback (most recent call last)",
      "\u001b[0;32m<ipython-input-13-df86a9e2d3ea>\u001b[0m in \u001b[0;36m<module>\u001b[0;34m()\u001b[0m\n\u001b[1;32m      2\u001b[0m                    \u001b[0mepochs\u001b[0m \u001b[0;34m=\u001b[0m \u001b[0;36m100\u001b[0m\u001b[0;34m,\u001b[0m\u001b[0;34m\u001b[0m\u001b[0m\n\u001b[1;32m      3\u001b[0m                    \u001b[0mvalidation_data\u001b[0m\u001b[0;34m=\u001b[0m\u001b[0;34m(\u001b[0m\u001b[0;34m[\u001b[0m\u001b[0mnmf_b_songid\u001b[0m\u001b[0;34m,\u001b[0m \u001b[0mnmf_b_userid\u001b[0m\u001b[0;34m]\u001b[0m\u001b[0;34m,\u001b[0m \u001b[0mnmf_b_y\u001b[0m\u001b[0;34m)\u001b[0m\u001b[0;34m,\u001b[0m\u001b[0;34m\u001b[0m\u001b[0m\n\u001b[0;32m----> 4\u001b[0;31m                    batch_size=10, shuffle=True)\n\u001b[0m",
      "\u001b[0;32m/usr/local/lib/python2.7/dist-packages/keras/engine/training.pyc\u001b[0m in \u001b[0;36mfit\u001b[0;34m(self, x, y, batch_size, epochs, verbose, callbacks, validation_split, validation_data, shuffle, class_weight, sample_weight, initial_epoch, steps_per_epoch, validation_steps, **kwargs)\u001b[0m\n\u001b[1;32m   1667\u001b[0m                               \u001b[0minitial_epoch\u001b[0m\u001b[0;34m=\u001b[0m\u001b[0minitial_epoch\u001b[0m\u001b[0;34m,\u001b[0m\u001b[0;34m\u001b[0m\u001b[0m\n\u001b[1;32m   1668\u001b[0m                               \u001b[0msteps_per_epoch\u001b[0m\u001b[0;34m=\u001b[0m\u001b[0msteps_per_epoch\u001b[0m\u001b[0;34m,\u001b[0m\u001b[0;34m\u001b[0m\u001b[0m\n\u001b[0;32m-> 1669\u001b[0;31m                               validation_steps=validation_steps)\n\u001b[0m\u001b[1;32m   1670\u001b[0m \u001b[0;34m\u001b[0m\u001b[0m\n\u001b[1;32m   1671\u001b[0m     def evaluate(self, x=None, y=None,\n",
      "\u001b[0;32m/usr/local/lib/python2.7/dist-packages/keras/engine/training.pyc\u001b[0m in \u001b[0;36m_fit_loop\u001b[0;34m(self, f, ins, out_labels, batch_size, epochs, verbose, callbacks, val_f, val_ins, shuffle, callback_metrics, initial_epoch, steps_per_epoch, validation_steps)\u001b[0m\n\u001b[1;32m   1204\u001b[0m                         \u001b[0mins_batch\u001b[0m\u001b[0;34m[\u001b[0m\u001b[0mi\u001b[0m\u001b[0;34m]\u001b[0m \u001b[0;34m=\u001b[0m \u001b[0mins_batch\u001b[0m\u001b[0;34m[\u001b[0m\u001b[0mi\u001b[0m\u001b[0;34m]\u001b[0m\u001b[0;34m.\u001b[0m\u001b[0mtoarray\u001b[0m\u001b[0;34m(\u001b[0m\u001b[0;34m)\u001b[0m\u001b[0;34m\u001b[0m\u001b[0m\n\u001b[1;32m   1205\u001b[0m \u001b[0;34m\u001b[0m\u001b[0m\n\u001b[0;32m-> 1206\u001b[0;31m                     \u001b[0mouts\u001b[0m \u001b[0;34m=\u001b[0m \u001b[0mf\u001b[0m\u001b[0;34m(\u001b[0m\u001b[0mins_batch\u001b[0m\u001b[0;34m)\u001b[0m\u001b[0;34m\u001b[0m\u001b[0m\n\u001b[0m\u001b[1;32m   1207\u001b[0m                     \u001b[0;32mif\u001b[0m \u001b[0;32mnot\u001b[0m \u001b[0misinstance\u001b[0m\u001b[0;34m(\u001b[0m\u001b[0mouts\u001b[0m\u001b[0;34m,\u001b[0m \u001b[0mlist\u001b[0m\u001b[0;34m)\u001b[0m\u001b[0;34m:\u001b[0m\u001b[0;34m\u001b[0m\u001b[0m\n\u001b[1;32m   1208\u001b[0m                         \u001b[0mouts\u001b[0m \u001b[0;34m=\u001b[0m \u001b[0;34m[\u001b[0m\u001b[0mouts\u001b[0m\u001b[0;34m]\u001b[0m\u001b[0;34m\u001b[0m\u001b[0m\n",
      "\u001b[0;32m/usr/local/lib/python2.7/dist-packages/keras/backend/tensorflow_backend.pyc\u001b[0m in \u001b[0;36m__call__\u001b[0;34m(self, inputs)\u001b[0m\n\u001b[1;32m   2473\u001b[0m         \u001b[0msession\u001b[0m \u001b[0;34m=\u001b[0m \u001b[0mget_session\u001b[0m\u001b[0;34m(\u001b[0m\u001b[0;34m)\u001b[0m\u001b[0;34m\u001b[0m\u001b[0m\n\u001b[1;32m   2474\u001b[0m         updated = session.run(fetches=fetches, feed_dict=feed_dict,\n\u001b[0;32m-> 2475\u001b[0;31m                               **self.session_kwargs)\n\u001b[0m\u001b[1;32m   2476\u001b[0m         \u001b[0;32mreturn\u001b[0m \u001b[0mupdated\u001b[0m\u001b[0;34m[\u001b[0m\u001b[0;34m:\u001b[0m\u001b[0mlen\u001b[0m\u001b[0;34m(\u001b[0m\u001b[0mself\u001b[0m\u001b[0;34m.\u001b[0m\u001b[0moutputs\u001b[0m\u001b[0;34m)\u001b[0m\u001b[0;34m]\u001b[0m\u001b[0;34m\u001b[0m\u001b[0m\n\u001b[1;32m   2477\u001b[0m \u001b[0;34m\u001b[0m\u001b[0m\n",
      "\u001b[0;32m/usr/local/lib/python2.7/dist-packages/tensorflow/python/client/session.pyc\u001b[0m in \u001b[0;36mrun\u001b[0;34m(self, fetches, feed_dict, options, run_metadata)\u001b[0m\n\u001b[1;32m    887\u001b[0m     \u001b[0;32mtry\u001b[0m\u001b[0;34m:\u001b[0m\u001b[0;34m\u001b[0m\u001b[0m\n\u001b[1;32m    888\u001b[0m       result = self._run(None, fetches, feed_dict, options_ptr,\n\u001b[0;32m--> 889\u001b[0;31m                          run_metadata_ptr)\n\u001b[0m\u001b[1;32m    890\u001b[0m       \u001b[0;32mif\u001b[0m \u001b[0mrun_metadata\u001b[0m\u001b[0;34m:\u001b[0m\u001b[0;34m\u001b[0m\u001b[0m\n\u001b[1;32m    891\u001b[0m         \u001b[0mproto_data\u001b[0m \u001b[0;34m=\u001b[0m \u001b[0mtf_session\u001b[0m\u001b[0;34m.\u001b[0m\u001b[0mTF_GetBuffer\u001b[0m\u001b[0;34m(\u001b[0m\u001b[0mrun_metadata_ptr\u001b[0m\u001b[0;34m)\u001b[0m\u001b[0;34m\u001b[0m\u001b[0m\n",
      "\u001b[0;32m/usr/local/lib/python2.7/dist-packages/tensorflow/python/client/session.pyc\u001b[0m in \u001b[0;36m_run\u001b[0;34m(self, handle, fetches, feed_dict, options, run_metadata)\u001b[0m\n\u001b[1;32m   1118\u001b[0m     \u001b[0;32mif\u001b[0m \u001b[0mfinal_fetches\u001b[0m \u001b[0;32mor\u001b[0m \u001b[0mfinal_targets\u001b[0m \u001b[0;32mor\u001b[0m \u001b[0;34m(\u001b[0m\u001b[0mhandle\u001b[0m \u001b[0;32mand\u001b[0m \u001b[0mfeed_dict_tensor\u001b[0m\u001b[0;34m)\u001b[0m\u001b[0;34m:\u001b[0m\u001b[0;34m\u001b[0m\u001b[0m\n\u001b[1;32m   1119\u001b[0m       results = self._do_run(handle, final_targets, final_fetches,\n\u001b[0;32m-> 1120\u001b[0;31m                              feed_dict_tensor, options, run_metadata)\n\u001b[0m\u001b[1;32m   1121\u001b[0m     \u001b[0;32melse\u001b[0m\u001b[0;34m:\u001b[0m\u001b[0;34m\u001b[0m\u001b[0m\n\u001b[1;32m   1122\u001b[0m       \u001b[0mresults\u001b[0m \u001b[0;34m=\u001b[0m \u001b[0;34m[\u001b[0m\u001b[0;34m]\u001b[0m\u001b[0;34m\u001b[0m\u001b[0m\n",
      "\u001b[0;32m/usr/local/lib/python2.7/dist-packages/tensorflow/python/client/session.pyc\u001b[0m in \u001b[0;36m_do_run\u001b[0;34m(self, handle, target_list, fetch_list, feed_dict, options, run_metadata)\u001b[0m\n\u001b[1;32m   1315\u001b[0m     \u001b[0;32mif\u001b[0m \u001b[0mhandle\u001b[0m \u001b[0;32mis\u001b[0m \u001b[0mNone\u001b[0m\u001b[0;34m:\u001b[0m\u001b[0;34m\u001b[0m\u001b[0m\n\u001b[1;32m   1316\u001b[0m       return self._do_call(_run_fn, self._session, feeds, fetches, targets,\n\u001b[0;32m-> 1317\u001b[0;31m                            options, run_metadata)\n\u001b[0m\u001b[1;32m   1318\u001b[0m     \u001b[0;32melse\u001b[0m\u001b[0;34m:\u001b[0m\u001b[0;34m\u001b[0m\u001b[0m\n\u001b[1;32m   1319\u001b[0m       \u001b[0;32mreturn\u001b[0m \u001b[0mself\u001b[0m\u001b[0;34m.\u001b[0m\u001b[0m_do_call\u001b[0m\u001b[0;34m(\u001b[0m\u001b[0m_prun_fn\u001b[0m\u001b[0;34m,\u001b[0m \u001b[0mself\u001b[0m\u001b[0;34m.\u001b[0m\u001b[0m_session\u001b[0m\u001b[0;34m,\u001b[0m \u001b[0mhandle\u001b[0m\u001b[0;34m,\u001b[0m \u001b[0mfeeds\u001b[0m\u001b[0;34m,\u001b[0m \u001b[0mfetches\u001b[0m\u001b[0;34m)\u001b[0m\u001b[0;34m\u001b[0m\u001b[0m\n",
      "\u001b[0;32m/usr/local/lib/python2.7/dist-packages/tensorflow/python/client/session.pyc\u001b[0m in \u001b[0;36m_do_call\u001b[0;34m(self, fn, *args)\u001b[0m\n\u001b[1;32m   1321\u001b[0m   \u001b[0;32mdef\u001b[0m \u001b[0m_do_call\u001b[0m\u001b[0;34m(\u001b[0m\u001b[0mself\u001b[0m\u001b[0;34m,\u001b[0m \u001b[0mfn\u001b[0m\u001b[0;34m,\u001b[0m \u001b[0;34m*\u001b[0m\u001b[0margs\u001b[0m\u001b[0;34m)\u001b[0m\u001b[0;34m:\u001b[0m\u001b[0;34m\u001b[0m\u001b[0m\n\u001b[1;32m   1322\u001b[0m     \u001b[0;32mtry\u001b[0m\u001b[0;34m:\u001b[0m\u001b[0;34m\u001b[0m\u001b[0m\n\u001b[0;32m-> 1323\u001b[0;31m       \u001b[0;32mreturn\u001b[0m \u001b[0mfn\u001b[0m\u001b[0;34m(\u001b[0m\u001b[0;34m*\u001b[0m\u001b[0margs\u001b[0m\u001b[0;34m)\u001b[0m\u001b[0;34m\u001b[0m\u001b[0m\n\u001b[0m\u001b[1;32m   1324\u001b[0m     \u001b[0;32mexcept\u001b[0m \u001b[0merrors\u001b[0m\u001b[0;34m.\u001b[0m\u001b[0mOpError\u001b[0m \u001b[0;32mas\u001b[0m \u001b[0me\u001b[0m\u001b[0;34m:\u001b[0m\u001b[0;34m\u001b[0m\u001b[0m\n\u001b[1;32m   1325\u001b[0m       \u001b[0mmessage\u001b[0m \u001b[0;34m=\u001b[0m \u001b[0mcompat\u001b[0m\u001b[0;34m.\u001b[0m\u001b[0mas_text\u001b[0m\u001b[0;34m(\u001b[0m\u001b[0me\u001b[0m\u001b[0;34m.\u001b[0m\u001b[0mmessage\u001b[0m\u001b[0;34m)\u001b[0m\u001b[0;34m\u001b[0m\u001b[0m\n",
      "\u001b[0;32m/usr/local/lib/python2.7/dist-packages/tensorflow/python/client/session.pyc\u001b[0m in \u001b[0;36m_run_fn\u001b[0;34m(session, feed_dict, fetch_list, target_list, options, run_metadata)\u001b[0m\n\u001b[1;32m   1300\u001b[0m           return tf_session.TF_Run(session, options,\n\u001b[1;32m   1301\u001b[0m                                    \u001b[0mfeed_dict\u001b[0m\u001b[0;34m,\u001b[0m \u001b[0mfetch_list\u001b[0m\u001b[0;34m,\u001b[0m \u001b[0mtarget_list\u001b[0m\u001b[0;34m,\u001b[0m\u001b[0;34m\u001b[0m\u001b[0m\n\u001b[0;32m-> 1302\u001b[0;31m                                    status, run_metadata)\n\u001b[0m\u001b[1;32m   1303\u001b[0m \u001b[0;34m\u001b[0m\u001b[0m\n\u001b[1;32m   1304\u001b[0m     \u001b[0;32mdef\u001b[0m \u001b[0m_prun_fn\u001b[0m\u001b[0;34m(\u001b[0m\u001b[0msession\u001b[0m\u001b[0;34m,\u001b[0m \u001b[0mhandle\u001b[0m\u001b[0;34m,\u001b[0m \u001b[0mfeed_dict\u001b[0m\u001b[0;34m,\u001b[0m \u001b[0mfetch_list\u001b[0m\u001b[0;34m)\u001b[0m\u001b[0;34m:\u001b[0m\u001b[0;34m\u001b[0m\u001b[0m\n",
      "\u001b[0;31mKeyboardInterrupt\u001b[0m: "
     ]
    }
   ],
   "source": [
    "history = model_nmf.fit([nmf_a_songid,nmf_a_userid], nmf_a_y,\n",
    "                   epochs = 100,\n",
    "                   validation_data=([nmf_b_songid, nmf_b_userid], nmf_b_y),\n",
    "                   batch_size=10, shuffle=True)"
   ]
  },
  {
   "cell_type": "markdown",
   "metadata": {},
   "source": [
    "Dot merge \n",
    "\n",
    "\n",
    "***Test this model. Low val loss"
   ]
  },
  {
   "cell_type": "code",
   "execution_count": 22,
   "metadata": {},
   "outputs": [],
   "source": [
    "user_input = Input(shape=[1])\n",
    "user_embedding = Flatten()(Embedding(input_dim=n_users+1, output_dim=32, embeddings_regularizer=regularizers.l2(0.1))(user_input))\n",
    "user_vec = Dropout(0.2)(user_embedding)\n",
    "\n",
    "song_input = Input(shape=[1])\n",
    "song_embedding = Flatten()(Embedding(input_dim=n_songs+1, output_dim=32, embeddings_regularizer=regularizers.l2(0.1))(song_input))\n",
    "song_vec = Dropout(0.2)(song_embedding)\n",
    "\n",
    "input_vecs = merge([user_vec,song_vec],mode='dot')\n",
    "\n",
    "y = Dense(128,activation='relu')(input_vecs)\n",
    "y = Dense(1)(input_vecs)\n",
    "dot_model = Model(inputs=[user_input,song_input],outputs=y)\n",
    "dot_model.compile(loss='mse',optimizer='adam')"
   ]
  },
  {
   "cell_type": "code",
   "execution_count": 23,
   "metadata": {
    "scrolled": true
   },
   "outputs": [
    {
     "name": "stdout",
     "output_type": "stream",
     "text": [
      "Train on 47992 samples, validate on 2020 samples\n",
      "Epoch 1/20\n",
      "47992/47992 [==============================] - 59s 1ms/step - loss: 125.9431 - val_loss: 46.6397\n",
      "Epoch 2/20\n",
      "47992/47992 [==============================] - 55s 1ms/step - loss: 178.2092 - val_loss: 739.6174\n",
      "Epoch 3/20\n",
      "47992/47992 [==============================] - 55s 1ms/step - loss: 13692.8938 - val_loss: 21219.2774\n",
      "Epoch 4/20\n",
      "47992/47992 [==============================] - 55s 1ms/step - loss: 32936.5609 - val_loss: 53155.7681\n",
      "Epoch 5/20\n",
      "26432/47992 [===============>..............] - ETA: 24s - loss: 58131.7807"
     ]
    },
    {
     "ename": "KeyboardInterrupt",
     "evalue": "",
     "output_type": "error",
     "traceback": [
      "\u001b[0;31m---------------------------------------------------------------------------\u001b[0m",
      "\u001b[0;31mKeyboardInterrupt\u001b[0m                         Traceback (most recent call last)",
      "\u001b[0;32m<ipython-input-23-fa591d746420>\u001b[0m in \u001b[0;36m<module>\u001b[0;34m()\u001b[0m\n\u001b[1;32m      2\u001b[0m                    \u001b[0mepochs\u001b[0m \u001b[0;34m=\u001b[0m \u001b[0;36m20\u001b[0m\u001b[0;34m,\u001b[0m\u001b[0;34m\u001b[0m\u001b[0m\n\u001b[1;32m      3\u001b[0m                    \u001b[0mvalidation_data\u001b[0m\u001b[0;34m=\u001b[0m\u001b[0;34m(\u001b[0m\u001b[0;34m[\u001b[0m\u001b[0mb_songid\u001b[0m\u001b[0;34m,\u001b[0m \u001b[0mb_userid\u001b[0m\u001b[0;34m]\u001b[0m\u001b[0;34m,\u001b[0m \u001b[0mb_y\u001b[0m\u001b[0;34m)\u001b[0m\u001b[0;34m,\u001b[0m\u001b[0;34m\u001b[0m\u001b[0m\n\u001b[0;32m----> 4\u001b[0;31m                    batch_size=64, shuffle=True)\n\u001b[0m",
      "\u001b[0;32m/usr/local/lib/python2.7/dist-packages/keras/engine/training.pyc\u001b[0m in \u001b[0;36mfit\u001b[0;34m(self, x, y, batch_size, epochs, verbose, callbacks, validation_split, validation_data, shuffle, class_weight, sample_weight, initial_epoch, steps_per_epoch, validation_steps, **kwargs)\u001b[0m\n\u001b[1;32m   1667\u001b[0m                               \u001b[0minitial_epoch\u001b[0m\u001b[0;34m=\u001b[0m\u001b[0minitial_epoch\u001b[0m\u001b[0;34m,\u001b[0m\u001b[0;34m\u001b[0m\u001b[0m\n\u001b[1;32m   1668\u001b[0m                               \u001b[0msteps_per_epoch\u001b[0m\u001b[0;34m=\u001b[0m\u001b[0msteps_per_epoch\u001b[0m\u001b[0;34m,\u001b[0m\u001b[0;34m\u001b[0m\u001b[0m\n\u001b[0;32m-> 1669\u001b[0;31m                               validation_steps=validation_steps)\n\u001b[0m\u001b[1;32m   1670\u001b[0m \u001b[0;34m\u001b[0m\u001b[0m\n\u001b[1;32m   1671\u001b[0m     def evaluate(self, x=None, y=None,\n",
      "\u001b[0;32m/usr/local/lib/python2.7/dist-packages/keras/engine/training.pyc\u001b[0m in \u001b[0;36m_fit_loop\u001b[0;34m(self, f, ins, out_labels, batch_size, epochs, verbose, callbacks, val_f, val_ins, shuffle, callback_metrics, initial_epoch, steps_per_epoch, validation_steps)\u001b[0m\n\u001b[1;32m   1204\u001b[0m                         \u001b[0mins_batch\u001b[0m\u001b[0;34m[\u001b[0m\u001b[0mi\u001b[0m\u001b[0;34m]\u001b[0m \u001b[0;34m=\u001b[0m \u001b[0mins_batch\u001b[0m\u001b[0;34m[\u001b[0m\u001b[0mi\u001b[0m\u001b[0;34m]\u001b[0m\u001b[0;34m.\u001b[0m\u001b[0mtoarray\u001b[0m\u001b[0;34m(\u001b[0m\u001b[0;34m)\u001b[0m\u001b[0;34m\u001b[0m\u001b[0m\n\u001b[1;32m   1205\u001b[0m \u001b[0;34m\u001b[0m\u001b[0m\n\u001b[0;32m-> 1206\u001b[0;31m                     \u001b[0mouts\u001b[0m \u001b[0;34m=\u001b[0m \u001b[0mf\u001b[0m\u001b[0;34m(\u001b[0m\u001b[0mins_batch\u001b[0m\u001b[0;34m)\u001b[0m\u001b[0;34m\u001b[0m\u001b[0m\n\u001b[0m\u001b[1;32m   1207\u001b[0m                     \u001b[0;32mif\u001b[0m \u001b[0;32mnot\u001b[0m \u001b[0misinstance\u001b[0m\u001b[0;34m(\u001b[0m\u001b[0mouts\u001b[0m\u001b[0;34m,\u001b[0m \u001b[0mlist\u001b[0m\u001b[0;34m)\u001b[0m\u001b[0;34m:\u001b[0m\u001b[0;34m\u001b[0m\u001b[0m\n\u001b[1;32m   1208\u001b[0m                         \u001b[0mouts\u001b[0m \u001b[0;34m=\u001b[0m \u001b[0;34m[\u001b[0m\u001b[0mouts\u001b[0m\u001b[0;34m]\u001b[0m\u001b[0;34m\u001b[0m\u001b[0m\n",
      "\u001b[0;32m/usr/local/lib/python2.7/dist-packages/keras/backend/tensorflow_backend.pyc\u001b[0m in \u001b[0;36m__call__\u001b[0;34m(self, inputs)\u001b[0m\n\u001b[1;32m   2473\u001b[0m         \u001b[0msession\u001b[0m \u001b[0;34m=\u001b[0m \u001b[0mget_session\u001b[0m\u001b[0;34m(\u001b[0m\u001b[0;34m)\u001b[0m\u001b[0;34m\u001b[0m\u001b[0m\n\u001b[1;32m   2474\u001b[0m         updated = session.run(fetches=fetches, feed_dict=feed_dict,\n\u001b[0;32m-> 2475\u001b[0;31m                               **self.session_kwargs)\n\u001b[0m\u001b[1;32m   2476\u001b[0m         \u001b[0;32mreturn\u001b[0m \u001b[0mupdated\u001b[0m\u001b[0;34m[\u001b[0m\u001b[0;34m:\u001b[0m\u001b[0mlen\u001b[0m\u001b[0;34m(\u001b[0m\u001b[0mself\u001b[0m\u001b[0;34m.\u001b[0m\u001b[0moutputs\u001b[0m\u001b[0;34m)\u001b[0m\u001b[0;34m]\u001b[0m\u001b[0;34m\u001b[0m\u001b[0m\n\u001b[1;32m   2477\u001b[0m \u001b[0;34m\u001b[0m\u001b[0m\n",
      "\u001b[0;32m/usr/local/lib/python2.7/dist-packages/tensorflow/python/client/session.pyc\u001b[0m in \u001b[0;36mrun\u001b[0;34m(self, fetches, feed_dict, options, run_metadata)\u001b[0m\n\u001b[1;32m    887\u001b[0m     \u001b[0;32mtry\u001b[0m\u001b[0;34m:\u001b[0m\u001b[0;34m\u001b[0m\u001b[0m\n\u001b[1;32m    888\u001b[0m       result = self._run(None, fetches, feed_dict, options_ptr,\n\u001b[0;32m--> 889\u001b[0;31m                          run_metadata_ptr)\n\u001b[0m\u001b[1;32m    890\u001b[0m       \u001b[0;32mif\u001b[0m \u001b[0mrun_metadata\u001b[0m\u001b[0;34m:\u001b[0m\u001b[0;34m\u001b[0m\u001b[0m\n\u001b[1;32m    891\u001b[0m         \u001b[0mproto_data\u001b[0m \u001b[0;34m=\u001b[0m \u001b[0mtf_session\u001b[0m\u001b[0;34m.\u001b[0m\u001b[0mTF_GetBuffer\u001b[0m\u001b[0;34m(\u001b[0m\u001b[0mrun_metadata_ptr\u001b[0m\u001b[0;34m)\u001b[0m\u001b[0;34m\u001b[0m\u001b[0m\n",
      "\u001b[0;32m/usr/local/lib/python2.7/dist-packages/tensorflow/python/client/session.pyc\u001b[0m in \u001b[0;36m_run\u001b[0;34m(self, handle, fetches, feed_dict, options, run_metadata)\u001b[0m\n\u001b[1;32m   1118\u001b[0m     \u001b[0;32mif\u001b[0m \u001b[0mfinal_fetches\u001b[0m \u001b[0;32mor\u001b[0m \u001b[0mfinal_targets\u001b[0m \u001b[0;32mor\u001b[0m \u001b[0;34m(\u001b[0m\u001b[0mhandle\u001b[0m \u001b[0;32mand\u001b[0m \u001b[0mfeed_dict_tensor\u001b[0m\u001b[0;34m)\u001b[0m\u001b[0;34m:\u001b[0m\u001b[0;34m\u001b[0m\u001b[0m\n\u001b[1;32m   1119\u001b[0m       results = self._do_run(handle, final_targets, final_fetches,\n\u001b[0;32m-> 1120\u001b[0;31m                              feed_dict_tensor, options, run_metadata)\n\u001b[0m\u001b[1;32m   1121\u001b[0m     \u001b[0;32melse\u001b[0m\u001b[0;34m:\u001b[0m\u001b[0;34m\u001b[0m\u001b[0m\n\u001b[1;32m   1122\u001b[0m       \u001b[0mresults\u001b[0m \u001b[0;34m=\u001b[0m \u001b[0;34m[\u001b[0m\u001b[0;34m]\u001b[0m\u001b[0;34m\u001b[0m\u001b[0m\n",
      "\u001b[0;32m/usr/local/lib/python2.7/dist-packages/tensorflow/python/client/session.pyc\u001b[0m in \u001b[0;36m_do_run\u001b[0;34m(self, handle, target_list, fetch_list, feed_dict, options, run_metadata)\u001b[0m\n\u001b[1;32m   1315\u001b[0m     \u001b[0;32mif\u001b[0m \u001b[0mhandle\u001b[0m \u001b[0;32mis\u001b[0m \u001b[0mNone\u001b[0m\u001b[0;34m:\u001b[0m\u001b[0;34m\u001b[0m\u001b[0m\n\u001b[1;32m   1316\u001b[0m       return self._do_call(_run_fn, self._session, feeds, fetches, targets,\n\u001b[0;32m-> 1317\u001b[0;31m                            options, run_metadata)\n\u001b[0m\u001b[1;32m   1318\u001b[0m     \u001b[0;32melse\u001b[0m\u001b[0;34m:\u001b[0m\u001b[0;34m\u001b[0m\u001b[0m\n\u001b[1;32m   1319\u001b[0m       \u001b[0;32mreturn\u001b[0m \u001b[0mself\u001b[0m\u001b[0;34m.\u001b[0m\u001b[0m_do_call\u001b[0m\u001b[0;34m(\u001b[0m\u001b[0m_prun_fn\u001b[0m\u001b[0;34m,\u001b[0m \u001b[0mself\u001b[0m\u001b[0;34m.\u001b[0m\u001b[0m_session\u001b[0m\u001b[0;34m,\u001b[0m \u001b[0mhandle\u001b[0m\u001b[0;34m,\u001b[0m \u001b[0mfeeds\u001b[0m\u001b[0;34m,\u001b[0m \u001b[0mfetches\u001b[0m\u001b[0;34m)\u001b[0m\u001b[0;34m\u001b[0m\u001b[0m\n",
      "\u001b[0;32m/usr/local/lib/python2.7/dist-packages/tensorflow/python/client/session.pyc\u001b[0m in \u001b[0;36m_do_call\u001b[0;34m(self, fn, *args)\u001b[0m\n\u001b[1;32m   1321\u001b[0m   \u001b[0;32mdef\u001b[0m \u001b[0m_do_call\u001b[0m\u001b[0;34m(\u001b[0m\u001b[0mself\u001b[0m\u001b[0;34m,\u001b[0m \u001b[0mfn\u001b[0m\u001b[0;34m,\u001b[0m \u001b[0;34m*\u001b[0m\u001b[0margs\u001b[0m\u001b[0;34m)\u001b[0m\u001b[0;34m:\u001b[0m\u001b[0;34m\u001b[0m\u001b[0m\n\u001b[1;32m   1322\u001b[0m     \u001b[0;32mtry\u001b[0m\u001b[0;34m:\u001b[0m\u001b[0;34m\u001b[0m\u001b[0m\n\u001b[0;32m-> 1323\u001b[0;31m       \u001b[0;32mreturn\u001b[0m \u001b[0mfn\u001b[0m\u001b[0;34m(\u001b[0m\u001b[0;34m*\u001b[0m\u001b[0margs\u001b[0m\u001b[0;34m)\u001b[0m\u001b[0;34m\u001b[0m\u001b[0m\n\u001b[0m\u001b[1;32m   1324\u001b[0m     \u001b[0;32mexcept\u001b[0m \u001b[0merrors\u001b[0m\u001b[0;34m.\u001b[0m\u001b[0mOpError\u001b[0m \u001b[0;32mas\u001b[0m \u001b[0me\u001b[0m\u001b[0;34m:\u001b[0m\u001b[0;34m\u001b[0m\u001b[0m\n\u001b[1;32m   1325\u001b[0m       \u001b[0mmessage\u001b[0m \u001b[0;34m=\u001b[0m \u001b[0mcompat\u001b[0m\u001b[0;34m.\u001b[0m\u001b[0mas_text\u001b[0m\u001b[0;34m(\u001b[0m\u001b[0me\u001b[0m\u001b[0;34m.\u001b[0m\u001b[0mmessage\u001b[0m\u001b[0;34m)\u001b[0m\u001b[0;34m\u001b[0m\u001b[0m\n",
      "\u001b[0;32m/usr/local/lib/python2.7/dist-packages/tensorflow/python/client/session.pyc\u001b[0m in \u001b[0;36m_run_fn\u001b[0;34m(session, feed_dict, fetch_list, target_list, options, run_metadata)\u001b[0m\n\u001b[1;32m   1300\u001b[0m           return tf_session.TF_Run(session, options,\n\u001b[1;32m   1301\u001b[0m                                    \u001b[0mfeed_dict\u001b[0m\u001b[0;34m,\u001b[0m \u001b[0mfetch_list\u001b[0m\u001b[0;34m,\u001b[0m \u001b[0mtarget_list\u001b[0m\u001b[0;34m,\u001b[0m\u001b[0;34m\u001b[0m\u001b[0m\n\u001b[0;32m-> 1302\u001b[0;31m                                    status, run_metadata)\n\u001b[0m\u001b[1;32m   1303\u001b[0m \u001b[0;34m\u001b[0m\u001b[0m\n\u001b[1;32m   1304\u001b[0m     \u001b[0;32mdef\u001b[0m \u001b[0m_prun_fn\u001b[0m\u001b[0;34m(\u001b[0m\u001b[0msession\u001b[0m\u001b[0;34m,\u001b[0m \u001b[0mhandle\u001b[0m\u001b[0;34m,\u001b[0m \u001b[0mfeed_dict\u001b[0m\u001b[0;34m,\u001b[0m \u001b[0mfetch_list\u001b[0m\u001b[0;34m)\u001b[0m\u001b[0;34m:\u001b[0m\u001b[0;34m\u001b[0m\u001b[0m\n",
      "\u001b[0;31mKeyboardInterrupt\u001b[0m: "
     ]
    }
   ],
   "source": [
    "history = dot_model.fit([a_songid,a_userid], a_y,\n",
    "                   epochs = 20,\n",
    "                   validation_data=([b_songid, b_userid], b_y),\n",
    "                   batch_size=64, shuffle=True)"
   ]
  },
  {
   "cell_type": "markdown",
   "metadata": {},
   "source": [
    "Deep MF w/ learning rate decay, dot product merge\n",
    "\n",
    "Minimum loss at 2 epochs, requires modified decay function\n",
    "\n",
    "**Gradients exploding"
   ]
  },
  {
   "cell_type": "code",
   "execution_count": 24,
   "metadata": {},
   "outputs": [],
   "source": [
    "def step_decay(epoch):\n",
    "    initial_lrate = 0.0005\n",
    "    drop = 0.5\n",
    "    epochs_drop = 5.0\n",
    "    lrate = initial_lrate * math.pow(drop,  \n",
    "           math.floor((1+epoch)/epochs_drop))\n",
    "    return lrate\n",
    "\n",
    "def exp_decay(epoch):\n",
    "    initial_lrate = 0.001\n",
    "    k=0.1\n",
    "    lrate = initial_lrate*math.exp(-1*k*epoch)\n",
    "    return lrate\n",
    "\n",
    "class LossHistory(keras.callbacks.Callback):\n",
    "    def on_train_begin(self, logs={}):\n",
    "       self.losses = []\n",
    "       self.lr = []\n",
    " \n",
    "    def on_epoch_end(self, batch, logs={}):\n",
    "       self.losses.append(logs.get('loss'))\n",
    "       self.lr.append(scheduler(len(self.losses)))\n",
    "        \n",
    "def _custom_loss(y_true,y_pred):\n",
    "    return K.mean((y_true - y_pred)**2)"
   ]
  },
  {
   "cell_type": "code",
   "execution_count": 25,
   "metadata": {},
   "outputs": [],
   "source": [
    "loss_history = LossHistory()\n",
    "change_lr = LearningRateScheduler(exp_decay)\n",
    "reduce_lr = ReduceLROnPlateau(monitor='loss', factor=0.2,\n",
    "                              patience=2, min_lr=0.0001)\n",
    "\n",
    "callbacks_list = [loss_history, change_lr]"
   ]
  },
  {
   "cell_type": "code",
   "execution_count": 28,
   "metadata": {},
   "outputs": [],
   "source": [
    "user_input = Input(shape=[1])\n",
    "user_embedding = Flatten()(Embedding(input_dim=n_users+1, output_dim=32, embeddings_regularizer=regularizers.l2(0.1))(user_input))\n",
    "user_vec = Dense(16)(user_embedding)\n",
    "user_vec = Dense(16)(user_vec)\n",
    "user_vec = Dropout(0.2)(user_vec)\n",
    "\n",
    "song_input = Input(shape=[1])\n",
    "song_embedding = Flatten()(Embedding(input_dim=n_songs+1, output_dim=32, embeddings_regularizer=regularizers.l2(0.1))(song_input))\n",
    "song_vec = Dense(16)(song_embedding)\n",
    "song_vec = Dense(16)(song_vec)\n",
    "song_vec = Dropout(0.2)(song_vec)\n",
    "\n",
    "prediction = merge([user_vec,song_vec],mode='dot')\n",
    "prediction = Dense(16)(prediction)\n",
    "prediction = Dense(1)(prediction)\n",
    "\n",
    "model = Model(inputs=[user_input,song_input],outputs=prediction)\n",
    "model.compile(loss='mse',optimizer='adam')"
   ]
  },
  {
   "cell_type": "code",
   "execution_count": 29,
   "metadata": {
    "scrolled": true
   },
   "outputs": [
    {
     "name": "stdout",
     "output_type": "stream",
     "text": [
      "Train on 47992 samples, validate on 2020 samples\n",
      "Epoch 1/20\n",
      "47992/47992 [==============================] - 18s 375us/step - loss: 455.9596 - val_loss: 653.0146\n",
      "Epoch 2/20\n",
      "47992/47992 [==============================] - 14s 292us/step - loss: 815.0351 - val_loss: 1639.0341\n",
      "Epoch 3/20\n",
      "26368/47992 [===============>..............] - ETA: 6s - loss: 1862.4133"
     ]
    },
    {
     "ename": "KeyboardInterrupt",
     "evalue": "",
     "output_type": "error",
     "traceback": [
      "\u001b[0;31m---------------------------------------------------------------------------\u001b[0m",
      "\u001b[0;31mKeyboardInterrupt\u001b[0m                         Traceback (most recent call last)",
      "\u001b[0;32m<ipython-input-29-4ad621f425b3>\u001b[0m in \u001b[0;36m<module>\u001b[0;34m()\u001b[0m\n\u001b[1;32m      2\u001b[0m                    \u001b[0mepochs\u001b[0m \u001b[0;34m=\u001b[0m \u001b[0;36m20\u001b[0m\u001b[0;34m,\u001b[0m\u001b[0;34m\u001b[0m\u001b[0m\n\u001b[1;32m      3\u001b[0m                    \u001b[0mvalidation_data\u001b[0m\u001b[0;34m=\u001b[0m\u001b[0;34m(\u001b[0m\u001b[0;34m[\u001b[0m\u001b[0mb_songid\u001b[0m\u001b[0;34m,\u001b[0m \u001b[0mb_userid\u001b[0m\u001b[0;34m]\u001b[0m\u001b[0;34m,\u001b[0m \u001b[0mb_y\u001b[0m\u001b[0;34m)\u001b[0m\u001b[0;34m,\u001b[0m\u001b[0;34m\u001b[0m\u001b[0m\n\u001b[0;32m----> 4\u001b[0;31m                    batch_size=256, shuffle=True, callbacks = [change_lr])\n\u001b[0m",
      "\u001b[0;32m/usr/local/lib/python2.7/dist-packages/keras/engine/training.pyc\u001b[0m in \u001b[0;36mfit\u001b[0;34m(self, x, y, batch_size, epochs, verbose, callbacks, validation_split, validation_data, shuffle, class_weight, sample_weight, initial_epoch, steps_per_epoch, validation_steps, **kwargs)\u001b[0m\n\u001b[1;32m   1667\u001b[0m                               \u001b[0minitial_epoch\u001b[0m\u001b[0;34m=\u001b[0m\u001b[0minitial_epoch\u001b[0m\u001b[0;34m,\u001b[0m\u001b[0;34m\u001b[0m\u001b[0m\n\u001b[1;32m   1668\u001b[0m                               \u001b[0msteps_per_epoch\u001b[0m\u001b[0;34m=\u001b[0m\u001b[0msteps_per_epoch\u001b[0m\u001b[0;34m,\u001b[0m\u001b[0;34m\u001b[0m\u001b[0m\n\u001b[0;32m-> 1669\u001b[0;31m                               validation_steps=validation_steps)\n\u001b[0m\u001b[1;32m   1670\u001b[0m \u001b[0;34m\u001b[0m\u001b[0m\n\u001b[1;32m   1671\u001b[0m     def evaluate(self, x=None, y=None,\n",
      "\u001b[0;32m/usr/local/lib/python2.7/dist-packages/keras/engine/training.pyc\u001b[0m in \u001b[0;36m_fit_loop\u001b[0;34m(self, f, ins, out_labels, batch_size, epochs, verbose, callbacks, val_f, val_ins, shuffle, callback_metrics, initial_epoch, steps_per_epoch, validation_steps)\u001b[0m\n\u001b[1;32m   1204\u001b[0m                         \u001b[0mins_batch\u001b[0m\u001b[0;34m[\u001b[0m\u001b[0mi\u001b[0m\u001b[0;34m]\u001b[0m \u001b[0;34m=\u001b[0m \u001b[0mins_batch\u001b[0m\u001b[0;34m[\u001b[0m\u001b[0mi\u001b[0m\u001b[0;34m]\u001b[0m\u001b[0;34m.\u001b[0m\u001b[0mtoarray\u001b[0m\u001b[0;34m(\u001b[0m\u001b[0;34m)\u001b[0m\u001b[0;34m\u001b[0m\u001b[0m\n\u001b[1;32m   1205\u001b[0m \u001b[0;34m\u001b[0m\u001b[0m\n\u001b[0;32m-> 1206\u001b[0;31m                     \u001b[0mouts\u001b[0m \u001b[0;34m=\u001b[0m \u001b[0mf\u001b[0m\u001b[0;34m(\u001b[0m\u001b[0mins_batch\u001b[0m\u001b[0;34m)\u001b[0m\u001b[0;34m\u001b[0m\u001b[0m\n\u001b[0m\u001b[1;32m   1207\u001b[0m                     \u001b[0;32mif\u001b[0m \u001b[0;32mnot\u001b[0m \u001b[0misinstance\u001b[0m\u001b[0;34m(\u001b[0m\u001b[0mouts\u001b[0m\u001b[0;34m,\u001b[0m \u001b[0mlist\u001b[0m\u001b[0;34m)\u001b[0m\u001b[0;34m:\u001b[0m\u001b[0;34m\u001b[0m\u001b[0m\n\u001b[1;32m   1208\u001b[0m                         \u001b[0mouts\u001b[0m \u001b[0;34m=\u001b[0m \u001b[0;34m[\u001b[0m\u001b[0mouts\u001b[0m\u001b[0;34m]\u001b[0m\u001b[0;34m\u001b[0m\u001b[0m\n",
      "\u001b[0;32m/usr/local/lib/python2.7/dist-packages/keras/backend/tensorflow_backend.pyc\u001b[0m in \u001b[0;36m__call__\u001b[0;34m(self, inputs)\u001b[0m\n\u001b[1;32m   2473\u001b[0m         \u001b[0msession\u001b[0m \u001b[0;34m=\u001b[0m \u001b[0mget_session\u001b[0m\u001b[0;34m(\u001b[0m\u001b[0;34m)\u001b[0m\u001b[0;34m\u001b[0m\u001b[0m\n\u001b[1;32m   2474\u001b[0m         updated = session.run(fetches=fetches, feed_dict=feed_dict,\n\u001b[0;32m-> 2475\u001b[0;31m                               **self.session_kwargs)\n\u001b[0m\u001b[1;32m   2476\u001b[0m         \u001b[0;32mreturn\u001b[0m \u001b[0mupdated\u001b[0m\u001b[0;34m[\u001b[0m\u001b[0;34m:\u001b[0m\u001b[0mlen\u001b[0m\u001b[0;34m(\u001b[0m\u001b[0mself\u001b[0m\u001b[0;34m.\u001b[0m\u001b[0moutputs\u001b[0m\u001b[0;34m)\u001b[0m\u001b[0;34m]\u001b[0m\u001b[0;34m\u001b[0m\u001b[0m\n\u001b[1;32m   2477\u001b[0m \u001b[0;34m\u001b[0m\u001b[0m\n",
      "\u001b[0;32m/usr/local/lib/python2.7/dist-packages/tensorflow/python/client/session.pyc\u001b[0m in \u001b[0;36mrun\u001b[0;34m(self, fetches, feed_dict, options, run_metadata)\u001b[0m\n\u001b[1;32m    887\u001b[0m     \u001b[0;32mtry\u001b[0m\u001b[0;34m:\u001b[0m\u001b[0;34m\u001b[0m\u001b[0m\n\u001b[1;32m    888\u001b[0m       result = self._run(None, fetches, feed_dict, options_ptr,\n\u001b[0;32m--> 889\u001b[0;31m                          run_metadata_ptr)\n\u001b[0m\u001b[1;32m    890\u001b[0m       \u001b[0;32mif\u001b[0m \u001b[0mrun_metadata\u001b[0m\u001b[0;34m:\u001b[0m\u001b[0;34m\u001b[0m\u001b[0m\n\u001b[1;32m    891\u001b[0m         \u001b[0mproto_data\u001b[0m \u001b[0;34m=\u001b[0m \u001b[0mtf_session\u001b[0m\u001b[0;34m.\u001b[0m\u001b[0mTF_GetBuffer\u001b[0m\u001b[0;34m(\u001b[0m\u001b[0mrun_metadata_ptr\u001b[0m\u001b[0;34m)\u001b[0m\u001b[0;34m\u001b[0m\u001b[0m\n",
      "\u001b[0;32m/usr/local/lib/python2.7/dist-packages/tensorflow/python/client/session.pyc\u001b[0m in \u001b[0;36m_run\u001b[0;34m(self, handle, fetches, feed_dict, options, run_metadata)\u001b[0m\n\u001b[1;32m   1118\u001b[0m     \u001b[0;32mif\u001b[0m \u001b[0mfinal_fetches\u001b[0m \u001b[0;32mor\u001b[0m \u001b[0mfinal_targets\u001b[0m \u001b[0;32mor\u001b[0m \u001b[0;34m(\u001b[0m\u001b[0mhandle\u001b[0m \u001b[0;32mand\u001b[0m \u001b[0mfeed_dict_tensor\u001b[0m\u001b[0;34m)\u001b[0m\u001b[0;34m:\u001b[0m\u001b[0;34m\u001b[0m\u001b[0m\n\u001b[1;32m   1119\u001b[0m       results = self._do_run(handle, final_targets, final_fetches,\n\u001b[0;32m-> 1120\u001b[0;31m                              feed_dict_tensor, options, run_metadata)\n\u001b[0m\u001b[1;32m   1121\u001b[0m     \u001b[0;32melse\u001b[0m\u001b[0;34m:\u001b[0m\u001b[0;34m\u001b[0m\u001b[0m\n\u001b[1;32m   1122\u001b[0m       \u001b[0mresults\u001b[0m \u001b[0;34m=\u001b[0m \u001b[0;34m[\u001b[0m\u001b[0;34m]\u001b[0m\u001b[0;34m\u001b[0m\u001b[0m\n",
      "\u001b[0;32m/usr/local/lib/python2.7/dist-packages/tensorflow/python/client/session.pyc\u001b[0m in \u001b[0;36m_do_run\u001b[0;34m(self, handle, target_list, fetch_list, feed_dict, options, run_metadata)\u001b[0m\n\u001b[1;32m   1315\u001b[0m     \u001b[0;32mif\u001b[0m \u001b[0mhandle\u001b[0m \u001b[0;32mis\u001b[0m \u001b[0mNone\u001b[0m\u001b[0;34m:\u001b[0m\u001b[0;34m\u001b[0m\u001b[0m\n\u001b[1;32m   1316\u001b[0m       return self._do_call(_run_fn, self._session, feeds, fetches, targets,\n\u001b[0;32m-> 1317\u001b[0;31m                            options, run_metadata)\n\u001b[0m\u001b[1;32m   1318\u001b[0m     \u001b[0;32melse\u001b[0m\u001b[0;34m:\u001b[0m\u001b[0;34m\u001b[0m\u001b[0m\n\u001b[1;32m   1319\u001b[0m       \u001b[0;32mreturn\u001b[0m \u001b[0mself\u001b[0m\u001b[0;34m.\u001b[0m\u001b[0m_do_call\u001b[0m\u001b[0;34m(\u001b[0m\u001b[0m_prun_fn\u001b[0m\u001b[0;34m,\u001b[0m \u001b[0mself\u001b[0m\u001b[0;34m.\u001b[0m\u001b[0m_session\u001b[0m\u001b[0;34m,\u001b[0m \u001b[0mhandle\u001b[0m\u001b[0;34m,\u001b[0m \u001b[0mfeeds\u001b[0m\u001b[0;34m,\u001b[0m \u001b[0mfetches\u001b[0m\u001b[0;34m)\u001b[0m\u001b[0;34m\u001b[0m\u001b[0m\n",
      "\u001b[0;32m/usr/local/lib/python2.7/dist-packages/tensorflow/python/client/session.pyc\u001b[0m in \u001b[0;36m_do_call\u001b[0;34m(self, fn, *args)\u001b[0m\n\u001b[1;32m   1321\u001b[0m   \u001b[0;32mdef\u001b[0m \u001b[0m_do_call\u001b[0m\u001b[0;34m(\u001b[0m\u001b[0mself\u001b[0m\u001b[0;34m,\u001b[0m \u001b[0mfn\u001b[0m\u001b[0;34m,\u001b[0m \u001b[0;34m*\u001b[0m\u001b[0margs\u001b[0m\u001b[0;34m)\u001b[0m\u001b[0;34m:\u001b[0m\u001b[0;34m\u001b[0m\u001b[0m\n\u001b[1;32m   1322\u001b[0m     \u001b[0;32mtry\u001b[0m\u001b[0;34m:\u001b[0m\u001b[0;34m\u001b[0m\u001b[0m\n\u001b[0;32m-> 1323\u001b[0;31m       \u001b[0;32mreturn\u001b[0m \u001b[0mfn\u001b[0m\u001b[0;34m(\u001b[0m\u001b[0;34m*\u001b[0m\u001b[0margs\u001b[0m\u001b[0;34m)\u001b[0m\u001b[0;34m\u001b[0m\u001b[0m\n\u001b[0m\u001b[1;32m   1324\u001b[0m     \u001b[0;32mexcept\u001b[0m \u001b[0merrors\u001b[0m\u001b[0;34m.\u001b[0m\u001b[0mOpError\u001b[0m \u001b[0;32mas\u001b[0m \u001b[0me\u001b[0m\u001b[0;34m:\u001b[0m\u001b[0;34m\u001b[0m\u001b[0m\n\u001b[1;32m   1325\u001b[0m       \u001b[0mmessage\u001b[0m \u001b[0;34m=\u001b[0m \u001b[0mcompat\u001b[0m\u001b[0;34m.\u001b[0m\u001b[0mas_text\u001b[0m\u001b[0;34m(\u001b[0m\u001b[0me\u001b[0m\u001b[0;34m.\u001b[0m\u001b[0mmessage\u001b[0m\u001b[0;34m)\u001b[0m\u001b[0;34m\u001b[0m\u001b[0m\n",
      "\u001b[0;32m/usr/local/lib/python2.7/dist-packages/tensorflow/python/client/session.pyc\u001b[0m in \u001b[0;36m_run_fn\u001b[0;34m(session, feed_dict, fetch_list, target_list, options, run_metadata)\u001b[0m\n\u001b[1;32m   1300\u001b[0m           return tf_session.TF_Run(session, options,\n\u001b[1;32m   1301\u001b[0m                                    \u001b[0mfeed_dict\u001b[0m\u001b[0;34m,\u001b[0m \u001b[0mfetch_list\u001b[0m\u001b[0;34m,\u001b[0m \u001b[0mtarget_list\u001b[0m\u001b[0;34m,\u001b[0m\u001b[0;34m\u001b[0m\u001b[0m\n\u001b[0;32m-> 1302\u001b[0;31m                                    status, run_metadata)\n\u001b[0m\u001b[1;32m   1303\u001b[0m \u001b[0;34m\u001b[0m\u001b[0m\n\u001b[1;32m   1304\u001b[0m     \u001b[0;32mdef\u001b[0m \u001b[0m_prun_fn\u001b[0m\u001b[0;34m(\u001b[0m\u001b[0msession\u001b[0m\u001b[0;34m,\u001b[0m \u001b[0mhandle\u001b[0m\u001b[0;34m,\u001b[0m \u001b[0mfeed_dict\u001b[0m\u001b[0;34m,\u001b[0m \u001b[0mfetch_list\u001b[0m\u001b[0;34m)\u001b[0m\u001b[0;34m:\u001b[0m\u001b[0;34m\u001b[0m\u001b[0m\n",
      "\u001b[0;31mKeyboardInterrupt\u001b[0m: "
     ]
    }
   ],
   "source": [
    "history = model.fit([a_songid,a_userid], a_y,\n",
    "                   epochs = 20,\n",
    "                   validation_data=([b_songid, b_userid], b_y),\n",
    "                   batch_size=256, shuffle=True, callbacks = [change_lr])"
   ]
  },
  {
   "cell_type": "code",
   "execution_count": null,
   "metadata": {},
   "outputs": [],
   "source": []
  }
 ],
 "metadata": {
  "kernelspec": {
   "display_name": "Python 2",
   "language": "python",
   "name": "python2"
  },
  "language_info": {
   "codemirror_mode": {
    "name": "ipython",
    "version": 2
   },
   "file_extension": ".py",
   "mimetype": "text/x-python",
   "name": "python",
   "nbconvert_exporter": "python",
   "pygments_lexer": "ipython2",
   "version": "2.7.12"
  }
 },
 "nbformat": 4,
 "nbformat_minor": 2
}
