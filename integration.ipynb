{
 "cells": [
  {
   "cell_type": "code",
   "execution_count": 72,
   "metadata": {},
   "outputs": [
    {
     "name": "stderr",
     "output_type": "stream",
     "text": [
      "Using TensorFlow backend.\n",
      "/usr/local/lib/python2.7/dist-packages/sklearn/cross_validation.py:41: DeprecationWarning: This module was deprecated in version 0.18 in favor of the model_selection module into which all the refactored classes and functions are moved. Also note that the interface of the new CV iterators are different from that of this module. This module will be removed in 0.20.\n",
      "  \"This module will be removed in 0.20.\", DeprecationWarning)\n"
     ]
    }
   ],
   "source": [
    "import deepdish as dd\n",
    "import os\n",
    "import pandas as pd\n",
    "import sqlite3\n",
    "%run 'matrix_factorization_system.ipynb'"
   ]
  },
  {
   "cell_type": "code",
   "execution_count": 30,
   "metadata": {},
   "outputs": [],
   "source": [
    "HOME_DIR = '/home/jvidyala/final_data/'\n",
    "TRAIN_DATA = HOME_DIR + 'mf_train_data/'\n",
    "TEST_DATA = HOME_DIR + 'mf_test_data/'\n",
    "WEIGHTS_DIR = HOME_DIR + 'model_weights/'"
   ]
  },
  {
   "cell_type": "code",
   "execution_count": 17,
   "metadata": {},
   "outputs": [],
   "source": [
    "#Song and user id to categorical var mapping\n",
    "#Stored as {actual_id:categorical_id} in normal, reverse has opposite\n",
    "def mappings():\n",
    "    if 'taste_profile.h5' not in os.listdir(HOME_DIR):\n",
    "        dataset = pd.read_csv(\"/home/jvidyala/data/train_triplets.txt\",sep=\"\\t\",skiprows=1,names=\"user_id,song_id,play_count\".split(\",\"))\n",
    "        dd.io.save(HOME_DIR + 'taste_profile.h5',dataset)\n",
    "    else:\n",
    "        dataset = dd.io.load(HOME_DIR + 'taste_profile.h5')\n",
    "        \n",
    "    df = dataset.copy(deep=True)\n",
    "\n",
    "    dataset.user_id = dataset.user_id.astype('category')\n",
    "    dataset.song_id = dataset.song_id.astype('category')\n",
    "\n",
    "    dataset.user_id = dataset.user_id.cat.codes.values\n",
    "    dataset.song_id = dataset.song_id.cat.codes.values\n",
    "    song_id_mappings = {}\n",
    "    song_id_mappings_reverse = {}\n",
    "    user_id_mappings = {}\n",
    "    user_id_mappings_reverse = {}\n",
    "\n",
    "    for song_id,cat_id in zip(df.song_id.values,dataset.song_id.values):\n",
    "        song_id_mappings[song_id] = cat_id\n",
    "        song_id_mappings_reverse[cat_id] = song_id\n",
    "\n",
    "    for user_id,cat_id in zip(df.user_id.values,dataset.user_id.values):\n",
    "        user_id_mappings[user_id] = cat_id\n",
    "        user_id_mappings_reverse[cat_id] = user_id\n",
    "\n",
    "\n",
    "    dd.io.save(HOME_DIR + 'song_id_mappings.h5', song_id_mappings)\n",
    "    dd.io.save(HOME_DIR + 'song_id_mappings_reverse.h5', song_id_mappings_reverse)\n",
    "    dd.io.save(HOME_DIR + 'song_id_mappings.h5', song_id_mappings)\n",
    "    dd.io.save(HOME_DIR + 'user_id_mappings_reverse.h5', user_id_mappings_reverse)"
   ]
  },
  {
   "cell_type": "code",
   "execution_count": 61,
   "metadata": {},
   "outputs": [],
   "source": [
    "#Returns song name from categorical variable listening history \n",
    "def song_name_lookup(listening_history):\n",
    "    song_id_mappings_reverse = dd.io.load(HOME_DIR + 'song_id_mappings_reverse.h5')\n",
    "    user_history = [song_id_mappings_reverse[cat_id] for cat_id in listening_history]\n",
    "    user_history_song_names = []\n",
    "    \n",
    "    conn = sqlite3.connect(HOME_DIR+'track_metadata.db')\n",
    "    for song_id in user_history:\n",
    "        query = \"SELECT DISTINCT title FROM songs WHERE song_id='%s'\" % song_id\n",
    "        cursor = conn.execute(query)\n",
    "        for row in cursor:\n",
    "            user_history_song_names.append(row)\n",
    "    return user_history_song_names"
   ]
  },
  {
   "cell_type": "code",
   "execution_count": 67,
   "metadata": {},
   "outputs": [],
   "source": [
    "#Create test playlist for given user id, stored one has uid=732659 \n",
    "def create_test_playlist(uid):\n",
    "    a_songid = dd.io.load('model_sample_data/a_songid.h5')\n",
    "    a_userid = dd.io.load('model_sample_data/a_userid.h5')\n",
    "    \n",
    "    listening_history = []\n",
    "    for user_id,song_id in zip(a_userid,a_songid):\n",
    "        if user_id == uid:\n",
    "            listening_history.append(song_id)\n",
    "        else: break\n",
    "    listening_history = [int(x) for x in listening_history]\n",
    "    \n",
    "    user_history = song_name_lookup(listening_history)\n",
    "    dd.io.save(HOME_DIR + 'test_playlist_user_732659.h5',user_history)\n",
    "    dd.io.save(HOME_DIR + 'test_playlist_user_732659_cat.h5', listening_history)"
   ]
  },
  {
   "cell_type": "markdown",
   "metadata": {},
   "source": [
    "Functions for testing generated playlist. Create new ones for on-the-fly testing"
   ]
  },
  {
   "cell_type": "code",
   "execution_count": 74,
   "metadata": {},
   "outputs": [],
   "source": [
    "global history_stack \n",
    "history_stack = []"
   ]
  },
  {
   "cell_type": "code",
   "execution_count": 75,
   "metadata": {},
   "outputs": [],
   "source": [
    "def get_mf_predictions(song,uid=732659):\n",
    "    user_predictions,prediction_list = main(uid)\n",
    "    \n",
    "    t = prediction_list\n",
    "    history_stack.append(song)\n",
    "    for elem in history_stack:\n",
    "        t.remove(elem)\n",
    "    \n",
    "    return t\n",
    "\n",
    "def playlist_test():\n",
    "    playlist = dd.io.load(HOME_DIR + 'test_playlist_user_732659_cat.h5')\n",
    "    playlist[3] = 49524\n",
    "    playlist[2] = 244554\n",
    "    playlist[1] = 248348\n",
    "    history_stack = []\n",
    "    for song in playlist[:20]:\n",
    "        deep_nmf_pred = get_mf_predictions(song)\n",
    "        "
   ]
  },
  {
   "cell_type": "code",
   "execution_count": null,
   "metadata": {},
   "outputs": [],
   "source": []
  },
  {
   "cell_type": "code",
   "execution_count": 68,
   "metadata": {},
   "outputs": [],
   "source": [
    "mappings()\n",
    "create_test_playlist(732659)"
   ]
  },
  {
   "cell_type": "code",
   "execution_count": 78,
   "metadata": {},
   "outputs": [
    {
     "name": "stdout",
     "output_type": "stream",
     "text": [
      "hello\n"
     ]
    }
   ],
   "source": [
    "playlist_test()"
   ]
  },
  {
   "cell_type": "code",
   "execution_count": 3,
   "metadata": {},
   "outputs": [],
   "source": [
    "dataset = dd.io.load(HOME_DIR + 'taste_profile.h5')"
   ]
  },
  {
   "cell_type": "code",
   "execution_count": 8,
   "metadata": {},
   "outputs": [
    {
     "data": {
      "text/html": [
       "<div>\n",
       "<style scoped>\n",
       "    .dataframe tbody tr th:only-of-type {\n",
       "        vertical-align: middle;\n",
       "    }\n",
       "\n",
       "    .dataframe tbody tr th {\n",
       "        vertical-align: top;\n",
       "    }\n",
       "\n",
       "    .dataframe thead th {\n",
       "        text-align: right;\n",
       "    }\n",
       "</style>\n",
       "<table border=\"1\" class=\"dataframe\">\n",
       "  <thead>\n",
       "    <tr style=\"text-align: right;\">\n",
       "      <th></th>\n",
       "      <th>user_id</th>\n",
       "      <th>song_id</th>\n",
       "      <th>play_count</th>\n",
       "    </tr>\n",
       "  </thead>\n",
       "  <tbody>\n",
       "  </tbody>\n",
       "</table>\n",
       "</div>"
      ],
      "text/plain": [
       "Empty DataFrame\n",
       "Columns: [user_id, song_id, play_count]\n",
       "Index: []"
      ]
     },
     "execution_count": 8,
     "metadata": {},
     "output_type": "execute_result"
    }
   ],
   "source": [
    "dataset.loc[dataset['user_id']==732659]"
   ]
  },
  {
   "cell_type": "code",
   "execution_count": 65,
   "metadata": {},
   "outputs": [],
   "source": [
    "a_songid = dd.io.load(HOME_DIR + 'song_id_mappings.h5').values()\n"
   ]
  },
  {
   "cell_type": "code",
   "execution_count": null,
   "metadata": {},
   "outputs": [],
   "source": []
  }
 ],
 "metadata": {
  "kernelspec": {
   "display_name": "Python 2",
   "language": "python",
   "name": "python2"
  },
  "language_info": {
   "codemirror_mode": {
    "name": "ipython",
    "version": 2
   },
   "file_extension": ".py",
   "mimetype": "text/x-python",
   "name": "python",
   "nbconvert_exporter": "python",
   "pygments_lexer": "ipython2",
   "version": "2.7.12"
  }
 },
 "nbformat": 4,
 "nbformat_minor": 2
}
