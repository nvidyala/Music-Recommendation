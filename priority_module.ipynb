{
 "cells": [
  {
   "cell_type": "code",
   "execution_count": 1,
   "metadata": {},
   "outputs": [],
   "source": [
    "import os, deepdish as dd\n",
    "import shutil\n",
    "import csv\n",
    "import random, deepdish as dd, math\n",
    "import fnmatch, numpy as np\n",
    "from sklearn.mixture import GaussianMixture\n",
    "import matplotlib.pyplot as plt\n",
    "from sklearn.decomposition import PCA\n",
    "from sklearn.neighbors import DistanceMetric\n",
    "from __future__ import division\n",
    "%matplotlib inline"
   ]
  },
  {
   "cell_type": "code",
   "execution_count": 2,
   "metadata": {},
   "outputs": [],
   "source": [
    "HOME_DIR = '/home/jvidyala/'\n",
    "DATA_DIR = '/home/jvidyala/data/original_data/'\n",
    "CLUSTER_DIR = '/home/jvidyala/data/cluster_test/'\n",
    "CLUSTER2_DIR = HOME_DIR+'data/'+'cluster_test2/'\n",
    "SAMPLE_TEST_DIR = CLUSTER2_DIR+'test_data/'\n",
    "\n",
    "os.chdir(CLUSTER2_DIR)"
   ]
  },
  {
   "cell_type": "code",
   "execution_count": 3,
   "metadata": {},
   "outputs": [],
   "source": [
    "def priority_calc(play_counts,alpha=0.1,offset=10):\n",
    "    y = math.exp(-1*alpha*(play_counts-offset))\n",
    "    return 1/(1+y)\n",
    "    \n",
    "def weighted_randomizer(priorities):\n",
    "    total = sum(list(priorities.values()))\n",
    "    rand = random.uniform(0,total)\n",
    "    for key,val in priorities.items():\n",
    "        rand = rand-val\n",
    "        if rand<0:\n",
    "            return key"
   ]
  },
  {
   "cell_type": "markdown",
   "metadata": {},
   "source": [
    "Test playlist showing results of weighted randomizer with priority"
   ]
  },
  {
   "cell_type": "code",
   "execution_count": 50,
   "metadata": {
    "scrolled": true
   },
   "outputs": [
    {
     "name": "stdout",
     "output_type": "stream",
     "text": [
      "('punk', 1.0)\n",
      "('punk', 1.0)\n",
      "('punk', 1.0)\n",
      "('punk', 1.0)\n",
      "('punk', 1.0)\n",
      "('punk', 1.0)\n",
      "('punk', 1.0)\n",
      "('punk', 1.0)\n",
      "('punk', 1.0)\n",
      "('punk', 1.0)\n",
      "('metal', 0.09090909090909091)\n",
      "('metal', 0.16666666666666666)\n",
      "('punk', 0.7692307692307693)\n",
      "('punk', 0.7142857142857143)\n",
      "('punk', 0.6666666666666666)\n",
      "('punk', 0.625)\n",
      "('punk', 0.5882352941176471)\n",
      "('metal', 0.4444444444444444)\n",
      "('metal', 0.47368421052631576)\n",
      "('metal', 0.5)\n",
      "('metal', 0.5238095238095238)\n",
      "('metal', 0.5454545454545454)\n",
      "('punk', 0.43478260869565216)\n",
      "('punk', 0.4166666666666667)\n",
      "('punk', 0.4)\n",
      "('metal', 0.6153846153846154)\n",
      "('punk', 0.37037037037037035)\n",
      "('punk', 0.35714285714285715)\n",
      "('metal', 0.6551724137931034)\n",
      "('metal', 0.6666666666666666)\n",
      "('metal', 0.6451612903225806)\n",
      "('folk', 0.0625)\n",
      "('punk', 0.30303030303030304)\n"
     ]
    }
   ],
   "source": [
    "gmms = dd.io.load('gmms.h5')\n",
    "test_playlist_bias = ['punk']*10+['metal']*20+['folk']*3\n",
    "for i,song in enumerate(test_playlist_bias):\n",
    "    gmms[song][1]+=1\n",
    "    gmms[song][2] = priority_calc(gmms[song][1])\n",
    "    \n",
    "    priority_array = {key:val[2] for key,val in gmms.items()}\n",
    "    recommendation = weighted_randomizer(priority_array)\n",
    "    print(recommendation,float(test_playlist_bias[:i+1].count(recommendation)/len(test_playlist_bias[:i+1])))"
   ]
  }
 ],
 "metadata": {
  "kernelspec": {
   "display_name": "Python 2",
   "language": "python",
   "name": "python2"
  },
  "language_info": {
   "codemirror_mode": {
    "name": "ipython",
    "version": 2
   },
   "file_extension": ".py",
   "mimetype": "text/x-python",
   "name": "python",
   "nbconvert_exporter": "python",
   "pygments_lexer": "ipython2",
   "version": "2.7.12"
  }
 },
 "nbformat": 4,
 "nbformat_minor": 2
}
