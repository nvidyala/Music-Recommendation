{
 "cells": [
  {
   "cell_type": "code",
   "execution_count": 1,
   "metadata": {},
   "outputs": [],
   "source": [
    "import os\n",
    "import shutil\n",
    "import csv\n",
    "import random, deepdish as dd\n",
    "import fnmatch, numpy as np\n",
    "from sklearn.mixture import GaussianMixture\n",
    "import matplotlib.pyplot as plt\n",
    "from sklearn.decomposition import PCA\n",
    "from sklearn.neighbors import DistanceMetric"
   ]
  },
  {
   "cell_type": "code",
   "execution_count": 2,
   "metadata": {},
   "outputs": [],
   "source": [
    "DATA_DIR = '/home/jvidyala/data/original_data/'\n",
    "CLUSTER_DIR = '/home/jvidyala/data/cluster_test/'"
   ]
  },
  {
   "cell_type": "markdown",
   "metadata": {},
   "source": [
    "Create genres and tracks to store genres & track-ids, respectively"
   ]
  },
  {
   "cell_type": "code",
   "execution_count": 4,
   "metadata": {},
   "outputs": [],
   "source": [
    "genres,tracks = [],[]\n",
    "with open('msd-genre-dataset.txt','rb') as f:\n",
    "    reader = csv.reader(f)\n",
    "    for idx,row in enumerate(reader):\n",
    "        if idx>=10:\n",
    "            genres.append(row[0])\n",
    "            tracks.append(row[1])"
   ]
  },
  {
   "cell_type": "markdown",
   "metadata": {},
   "source": [
    "Random sample of n=100 tracks' data"
   ]
  },
  {
   "cell_type": "code",
   "execution_count": 36,
   "metadata": {
    "scrolled": true
   },
   "outputs": [],
   "source": [
    "idxs = []\n",
    "for track in random.sample(tracks,100):\n",
    "    idxs.append(tracks.index(track))\n",
    "    path = DATA_DIR+track[2]+'/'+track[3]+'/'+track[4]+'/'+track+'.h5'\n",
    "    try:\n",
    "        shutil.copy(path,CLUSTER_DIR)\n",
    "    except IOError as e:\n",
    "        print(e)\n",
    "        \n",
    "    "
   ]
  },
  {
   "cell_type": "code",
   "execution_count": 37,
   "metadata": {},
   "outputs": [],
   "source": [
    "label_set = {tracks[i]:genres[i] for i in idxs}\n",
    "os.chdir('/home/jvidyala/data/')\n",
    "dd.io.save('label_set.h5',label_set)"
   ]
  },
  {
   "cell_type": "markdown",
   "metadata": {},
   "source": [
    "Run from here"
   ]
  },
  {
   "cell_type": "code",
   "execution_count": 3,
   "metadata": {},
   "outputs": [],
   "source": [
    "os.chdir(CLUSTER_DIR)"
   ]
  },
  {
   "cell_type": "code",
   "execution_count": 4,
   "metadata": {},
   "outputs": [],
   "source": [
    "mfcc_coeffs = {filename: [] for idx,filename in enumerate(fnmatch.filter(os.listdir(CLUSTER_DIR),'*.h5'))}\n",
    "avg_feature_vector = {filename: [] for idx,filename in enumerate(fnmatch.filter(os.listdir(CLUSTER_DIR),'*.h5'))}\n",
    "for file in fnmatch.filter(os.listdir(CLUSTER_DIR),'*.h5'):\n",
    "    try:\n",
    "        temp_load = dd.io.load(file)['analysis']['segments_timbre']\n",
    "        mfcc_coeffs[file] = temp_load\n",
    "        temp = []\n",
    "        for j in range(12):\n",
    "            feature_set = [(mfcc_coeffs[file][j]) for i in range(mfcc_coeffs[file].shape[0])]\n",
    "            avg_feature = np.mean(np.array(feature_set))\n",
    "            temp.append(avg_feature)\n",
    "        feature_vector[file]=temp\n",
    "    except IOError as e:\n",
    "        print(e)"
   ]
  },
  {
   "cell_type": "markdown",
   "metadata": {},
   "source": [
    "Create 6-item vectors for each song consisting of statistical metrics"
   ]
  },
  {
   "cell_type": "code",
   "execution_count": 30,
   "metadata": {},
   "outputs": [],
   "source": [
    "def stat_distribution_calc(mfcc_coeff):\n",
    "    stat_coeffs = []\n",
    "    for idx in range(12):\n",
    "        stat_vector = []\n",
    "        coeff_val = np.array([mfcc_coeff[i][idx] for i in range(len(mfcc_coeff))])\n",
    "        stat_vector = [np.mean(coeff_val),np.std(coeff_val),max(coeff_val),min(coeff_val),np.percentile(coeff_val,25),np.percentile(coeff_val,75)]\n",
    "        stat_coeffs.append(stat_vector)\n",
    "    return stat_coeffs"
   ]
  },
  {
   "cell_type": "code",
   "execution_count": 34,
   "metadata": {
    "scrolled": true
   },
   "outputs": [],
   "source": [
    "stat_measures = {file:stat_distribution_calc(vector) for file,vector in mfcc_coeffs.items()}"
   ]
  },
  {
   "cell_type": "markdown",
   "metadata": {},
   "source": [
    "Create training sets for GMMs"
   ]
  },
  {
   "cell_type": "code",
   "execution_count": 94,
   "metadata": {
    "scrolled": true
   },
   "outputs": [],
   "source": [
    "os.chdir('/home/jvidyala/data')\n",
    "label_file = dd.io.load('label_set.h5')\n",
    "\n",
    "avg_mfcc_vectors, stat_coeff_vectors,genre_label = [],[],[]\n",
    "for avg_val,stat_val in zip(avg_feature_vector.items(),stat_measures.items()):  \n",
    "    avg_mfcc_vectors.append(avg_val[1])\n",
    "    for i in range(12):\n",
    "        stat_coeff_vectors.append(stat_val[1][i])\n",
    "    genre_label.append(label_file.get(avg_val[0][:-3]))"
   ]
  },
  {
   "cell_type": "code",
   "execution_count": 61,
   "metadata": {},
   "outputs": [
    {
     "name": "stdout",
     "output_type": "stream",
     "text": [
      "(100, 12)\n",
      "(1200, 6)\n"
     ]
    }
   ],
   "source": [
    "print(len(avg_mfcc_vectors),len(avg_mfcc_vectors[0]))\n",
    "print(len(stat_coeff_vectors),len(stat_coeff_vectors[0]))"
   ]
  },
  {
   "cell_type": "markdown",
   "metadata": {},
   "source": [
    "PCA dimensionality reduction and plotting "
   ]
  },
  {
   "cell_type": "code",
   "execution_count": 7,
   "metadata": {},
   "outputs": [],
   "source": [
    "pca = PCA(n_components=2)\n",
    "X_r = pca.fit(avg_mfcc_vectors).transform(avg_mfcc_vectors)\n",
    "colors = ['b','g','r','y','c','m','k','pink','darkorange']\n",
    "mapping = {'jazz and blues':'b',\n",
    "           'classic pop and rock':'g',\n",
    "          'classical':'r',\n",
    "          'metal':'y', \n",
    "           'punk':'c',\n",
    "           'pop':'m',\n",
    "           'dance and electronica':'k',\n",
    "           'soul and reggae':'pink',\n",
    "           'folk':'darkorange'}\n",
    "color_set = [mapping[val] for val in genre_label]"
   ]
  },
  {
   "cell_type": "code",
   "execution_count": 8,
   "metadata": {},
   "outputs": [
    {
     "data": {
      "image/png": "[encoded data removed]",
      "text/plain": [
       "<matplotlib.figure.Figure at 0x7fac756198d0>"
      ]
     },
     "metadata": {},
     "output_type": "display_data"
    }
   ],
   "source": [
    "for i in range(len(X_r)):\n",
    "    plt.scatter(X_r[i,0],X_r[i,1],color=color_set[i])\n",
    "plt.show()"
   ]
  },
  {
   "cell_type": "markdown",
   "metadata": {},
   "source": [
    "Function to calculate Mahalanobis distance for each point in associated Gaussian distribution"
   ]
  },
  {
   "cell_type": "code",
   "execution_count": 14,
   "metadata": {},
   "outputs": [],
   "source": [
    "def mahalanobis(x,mean,cov):\n",
    "    cov_inverse = np.linalg.inv(cov)\n",
    "    return np.matmul(np.matmul(x-mean,cov_inverse),x-mean)"
   ]
  },
  {
   "cell_type": "markdown",
   "metadata": {},
   "source": [
    "Checking whether n-component GMM trained on entire dataset better than 1-component GMM trained on genre-specific dataset"
   ]
  },
  {
   "cell_type": "code",
   "execution_count": 89,
   "metadata": {},
   "outputs": [],
   "source": [
    "def distance_comparison(n_clusters,feature_vectors,genre_split=0):\n",
    "    \n",
    "    distance_metric = [0]*n_clusters\n",
    "    if genre_split==0:\n",
    "        cluster_population = [0]*n_clusters\n",
    "        gmm = GaussianMixture(n_components=n_clusters,covariance_type='tied').fit(feature_vectors)\n",
    "        predicted_labels = gmm.predict(feature_vectors)\n",
    "        probs = gmm.predict_proba(feature_vectors)\n",
    "\n",
    "        for idx, (label,prob) in enumerate(zip(predicted_labels,probs)):\n",
    "            cluster_id = int(np.where(prob==max(prob))[0])\n",
    "            cluster_population[cluster_id]+=1\n",
    "            distance_metric[cluster_id]+=mahalanobis(np.array(feature_vectors[idx]),gmm.means_[cluster_id],gmm.covariances_)\n",
    "    \n",
    "        return distance_metric,gmm\n",
    "    \n",
    "    else:\n",
    "        gmms = []\n",
    "        for idx,genre in enumerate(set(genre_label)):\n",
    "            train_set = [vector for vector in avg_mfcc_vectors if genre_label[avg_mfcc_vectors.index(vector)]==genre]\n",
    "            gmm_genre = GaussianMixture(n_components=1,covariance_type='tied').fit(train_set)\n",
    "            for vector in train_set:\n",
    "                distance_metric[idx]+=mahalanobis(np.array(vector),gmm_genre.means_[0],gmm_genre.covariances_) \n",
    "            gmms.append(gmm_genre)\n",
    "        return distance_metric,gmms\n",
    "    "
   ]
  },
  {
   "cell_type": "code",
   "execution_count": 93,
   "metadata": {},
   "outputs": [],
   "source": [
    "distances, gmm = distance_comparison(n_clusters=9,feature_vectors=avg_mfcc_vectors,genre_split=1)"
   ]
  }
 ],
 "metadata": {
  "kernelspec": {
   "display_name": "Python 2",
   "language": "python",
   "name": "python2"
  },
  "language_info": {
   "codemirror_mode": {
    "name": "ipython",
    "version": 2
   },
   "file_extension": ".py",
   "mimetype": "text/x-python",
   "name": "python",
   "nbconvert_exporter": "python",
   "pygments_lexer": "ipython2",
   "version": "2.7.12"
  }
 },
 "nbformat": 4,
 "nbformat_minor": 2
}
